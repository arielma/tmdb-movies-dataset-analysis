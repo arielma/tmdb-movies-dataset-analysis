{
 "cells": [
  {
   "cell_type": "markdown",
   "metadata": {},
   "source": [
    "\n",
    "# Project: Investigate TMDB Movie Dataset\n",
    "\n",
    "## Table of Contents\n",
    "<ul>\n",
    "<li><a href=\"#intro\">Introduction</a></li>\n",
    "<li><a href=\"#wrangling\">Data Wrangling</a></li>\n",
    "<li><a href=\"#eda\">Exploratory Data Analysis</a></li>\n",
    "<li><a href=\"#conclusions\">Conclusions</a></li>\n",
    "<li><a href=\"#references\">References</a></li>\n",
    "</ul>\n",
    "\n",
    "<a id='intro'></a>\n",
    "## Introduction\n",
    "\n",
    "\n",
    "In this report, I am going to demonstrate my investigations and findings on the TMDB movie dataset by answering a set of questions. \n",
    "\n",
    "### Assumptions\n",
    "1. According to the [TMDB Movie Data metadata page](https://www.kaggle.com/tmdb/tmdb-movie-metadata), actors are listed in the descending order of how much they billed. Therefore I had used the first listed name as the leading actor for each movie in the 'cast' column to analyse the correlation between popularity and the actor, and to analyse the correlation between revenue and the actor. \n",
    "\n",
    "2. I will use imdb_id as the primary key of each movie. Therefore empty imdb_id or duplicate imdb_id will be considered as bad data and will be removed in the <a href=\"#cleaning\">data cleaning</a> process.\n",
    "\n",
    "3. I will assume values of zero in `revenue` and `popularity` columns as missing. Therefore in <a href=\"#cleaning\">Data Cleaning</a> section I will remove these rows from my datasets.\n",
    "\n",
    "### Questions to be Answered\n",
    "Here is the list of questions I am going to find answers for:\n",
    "\n",
    "1. What was the average revenue of all movies in each particular year? is there any trend across all years?\n",
    "2. Grouping movies by actor, for all movies the particular actor had played the leading role, what was the average revenue? How do these statistics compare to the average revenue of all movie population? \n",
    "3. Grouping movies by actor, for all movies the particular actor had played the leading role, what was the average popularity? How do these statistics compare to the average popularity of all movie population? \n",
    "4. In general how is popularity and revenue related?\n",
    "5. How is vote_average of all movies distributed?\n",
    "6. Which month of each year had the most movie released?\n",
    "\n",
    "### DataFrame Instances to be Generated\n",
    "In order to answering the above questions, I am going to create a set of new DataFrame instances:\n",
    "1. `movies_df_original`: the original DataFrame instance where all data in the csv file will be loaded into.\n",
    "2. `movies_df_imdb_id_cleaned`: the DataFrame instance without rows where `imdb_id = NaN` or `imdb_id` is duplicated.\n",
    "3. `movies_df_revenue`: the DataFrame instance generated from `movies_df_imdb_id_cleaned` without rows where `revenue` field is 0.\n",
    "4. `movies_df_pop`: the DataFrame instance generated from `movies_df_imdb_id_cleaned` without rows where `popularity` field is 0.\n",
    "5. `movies_df_actor`: the DataFrame instance generated from `movies_df_imdb_id_cleaned` without rows where `cast` field is NaN.\n",
    "\n",
    "These DataFrame instances will be used in <a href=\"#eda\">Exploratory Data Analysis</a> section.\n",
    "\n",
    "\n"
   ]
  },
  {
   "cell_type": "code",
   "execution_count": 1,
   "metadata": {
    "collapsed": true
   },
   "outputs": [],
   "source": [
    "# Use this cell to set up import statements for all of the packages that you\n",
    "#   plan to use.\n",
    "\n",
    "# Remember to include a 'magic word' so that your visualizations are plotted\n",
    "#   inline with the notebook. See this page for more:\n",
    "#   http://ipython.readthedocs.io/en/stable/interactive/magics.html\n",
    "import pandas as pd\n",
    "pd.options.display.max_columns = None\n",
    "pd.set_option('display.max_colwidth', -1)\n",
    "\n",
    "# # Defining format of float number:\n",
    "pd.set_option('display.float_format', lambda x: '%.3f' % x)\n",
    "\n",
    "import numpy as np\n",
    "np.set_printoptions(threshold=np.nan)\n",
    "\n",
    "import matplotlib.pyplot as plt\n",
    "import seaborn as sns\n",
    "%matplotlib inline\n",
    "\n",
    "import unicodecsv\n",
    "\n",
    "### to make sure all outputs will be displayed rather than only the output for the last expression.\n",
    "from IPython.core.interactiveshell import InteractiveShell\n",
    "InteractiveShell.ast_node_interactivity = \"all\"\n",
    "\n",
    "\n",
    "\n"
   ]
  },
  {
   "cell_type": "markdown",
   "metadata": {},
   "source": [
    "<a id='wrangling'></a>\n",
    "## Data Wrangling\n",
    "\n",
    "\n",
    "### General Properties"
   ]
  },
  {
   "cell_type": "markdown",
   "metadata": {},
   "source": [
    "In the below cell, I am going to load the csv file and print the top 5 rows and the data type of each column:"
   ]
  },
  {
   "cell_type": "code",
   "execution_count": 2,
   "metadata": {},
   "outputs": [
    {
     "data": {
      "text/plain": [
       "id                      int64  \n",
       "imdb_id                 object \n",
       "popularity              float64\n",
       "budget                  int64  \n",
       "revenue                 int64  \n",
       "original_title          object \n",
       "cast                    object \n",
       "homepage                object \n",
       "director                object \n",
       "tagline                 object \n",
       "keywords                object \n",
       "overview                object \n",
       "runtime                 int64  \n",
       "genres                  object \n",
       "production_companies    object \n",
       "release_date            object \n",
       "vote_count              int64  \n",
       "vote_average            float64\n",
       "release_year            int64  \n",
       "budget_adj              float64\n",
       "revenue_adj             float64\n",
       "dtype: object"
      ]
     },
     "execution_count": 2,
     "metadata": {},
     "output_type": "execute_result"
    }
   ],
   "source": [
    "# Load your data and print out a few lines. Perform operations to inspect data\n",
    "#   types and look for instances of missing or possibly errant data.\n",
    "movies_df_original = pd.read_csv('tmdb-movies.csv')\n",
    "movies_df_original.dtypes\n"
   ]
  },
  {
   "cell_type": "code",
   "execution_count": 3,
   "metadata": {},
   "outputs": [
    {
     "name": "stdout",
     "output_type": "stream",
     "text": [
      "Number of rows and columns in the original movie dataset: 10866\n",
      "Number of non-NaN rows in each column:\n"
     ]
    },
    {
     "data": {
      "text/plain": [
       "id                      10866\n",
       "imdb_id                 10856\n",
       "popularity              10866\n",
       "budget                  10866\n",
       "revenue                 10866\n",
       "original_title          10866\n",
       "cast                    10790\n",
       "homepage                2936 \n",
       "director                10822\n",
       "tagline                 8042 \n",
       "keywords                9373 \n",
       "overview                10862\n",
       "runtime                 10866\n",
       "genres                  10843\n",
       "production_companies    9836 \n",
       "release_date            10866\n",
       "vote_count              10866\n",
       "vote_average            10866\n",
       "release_year            10866\n",
       "budget_adj              10866\n",
       "revenue_adj             10866\n",
       "dtype: int64"
      ]
     },
     "execution_count": 3,
     "metadata": {},
     "output_type": "execute_result"
    }
   ],
   "source": [
    "### This will return me the total number of rows and columns in the dataset\n",
    "print ('Number of rows and columns in the original movie dataset: %s' % movies_df_original.shape[0])\n",
    "\n",
    "### Next I want to see the count of non-NaN rows of each column\n",
    "print ('Number of non-NaN rows in each column:')\n",
    "movies_df_original.count()"
   ]
  },
  {
   "cell_type": "markdown",
   "metadata": {},
   "source": [
    "The output shows that there are 10856 rows in the dataset that the `imdb_id` is not `NaN`, wheras there are 10866 rows in total. This means that there are 10 rows whose `imdb_id` is `NaN`. \n",
    "\n",
    "Since later on when I am analysing the correlation between popularity/revenue and actors, I will use `imdb_id` as the unique key to join datasets, I do not want `imdb_id` to be `NaN`. So in the I will remove these rows and return a new DataFrame object `movies_df_imdb_id_cleaned` later on in the <a href=\"#cleaning\">Data Cleaning</a> section."
   ]
  },
  {
   "cell_type": "markdown",
   "metadata": {},
   "source": [
    "Now I am curious to see ignoring the `NaN` imdb_id, if there are duplicate imdb_id:"
   ]
  },
  {
   "cell_type": "code",
   "execution_count": 4,
   "metadata": {},
   "outputs": [
    {
     "data": {
      "text/html": [
       "<div>\n",
       "<style>\n",
       "    .dataframe thead tr:only-child th {\n",
       "        text-align: right;\n",
       "    }\n",
       "\n",
       "    .dataframe thead th {\n",
       "        text-align: left;\n",
       "    }\n",
       "\n",
       "    .dataframe tbody tr th {\n",
       "        vertical-align: top;\n",
       "    }\n",
       "</style>\n",
       "<table border=\"1\" class=\"dataframe\">\n",
       "  <thead>\n",
       "    <tr style=\"text-align: right;\">\n",
       "      <th></th>\n",
       "      <th>id</th>\n",
       "      <th>imdb_id</th>\n",
       "      <th>popularity</th>\n",
       "      <th>budget</th>\n",
       "      <th>revenue</th>\n",
       "      <th>original_title</th>\n",
       "      <th>cast</th>\n",
       "      <th>homepage</th>\n",
       "      <th>director</th>\n",
       "      <th>tagline</th>\n",
       "      <th>keywords</th>\n",
       "      <th>overview</th>\n",
       "      <th>runtime</th>\n",
       "      <th>genres</th>\n",
       "      <th>production_companies</th>\n",
       "      <th>release_date</th>\n",
       "      <th>vote_count</th>\n",
       "      <th>vote_average</th>\n",
       "      <th>release_year</th>\n",
       "      <th>budget_adj</th>\n",
       "      <th>revenue_adj</th>\n",
       "    </tr>\n",
       "  </thead>\n",
       "  <tbody>\n",
       "    <tr>\n",
       "      <th>2089</th>\n",
       "      <td>42194</td>\n",
       "      <td>tt0411951</td>\n",
       "      <td>0.596</td>\n",
       "      <td>30000000</td>\n",
       "      <td>967000</td>\n",
       "      <td>TEKKEN</td>\n",
       "      <td>Jon Foo|Kelly Overton|Cary-Hiroyuki Tagawa|Ian Anthony Dale|Luke Goss</td>\n",
       "      <td>NaN</td>\n",
       "      <td>Dwight H. Little</td>\n",
       "      <td>Survival is no game</td>\n",
       "      <td>martial arts|dystopia|based on video game|martial arts tournament</td>\n",
       "      <td>In the year of 2039, after World Wars destroy much of the civilization as we know it, territories are no longer run by governments, but by corporations; the mightiest of which is the Mishima Zaibatsu. In order to placate the seething masses of this dystopia, Mishima sponsors Tekken, a tournament in which fighters battle until only one is left standing.</td>\n",
       "      <td>92</td>\n",
       "      <td>Crime|Drama|Action|Thriller|Science Fiction</td>\n",
       "      <td>Namco|Light Song Films</td>\n",
       "      <td>3/20/10</td>\n",
       "      <td>110</td>\n",
       "      <td>5.000</td>\n",
       "      <td>2010</td>\n",
       "      <td>30000000.000</td>\n",
       "      <td>967000.000</td>\n",
       "    </tr>\n",
       "    <tr>\n",
       "      <th>2090</th>\n",
       "      <td>42194</td>\n",
       "      <td>tt0411951</td>\n",
       "      <td>0.596</td>\n",
       "      <td>30000000</td>\n",
       "      <td>967000</td>\n",
       "      <td>TEKKEN</td>\n",
       "      <td>Jon Foo|Kelly Overton|Cary-Hiroyuki Tagawa|Ian Anthony Dale|Luke Goss</td>\n",
       "      <td>NaN</td>\n",
       "      <td>Dwight H. Little</td>\n",
       "      <td>Survival is no game</td>\n",
       "      <td>martial arts|dystopia|based on video game|martial arts tournament</td>\n",
       "      <td>In the year of 2039, after World Wars destroy much of the civilization as we know it, territories are no longer run by governments, but by corporations; the mightiest of which is the Mishima Zaibatsu. In order to placate the seething masses of this dystopia, Mishima sponsors Tekken, a tournament in which fighters battle until only one is left standing.</td>\n",
       "      <td>92</td>\n",
       "      <td>Crime|Drama|Action|Thriller|Science Fiction</td>\n",
       "      <td>Namco|Light Song Films</td>\n",
       "      <td>3/20/10</td>\n",
       "      <td>110</td>\n",
       "      <td>5.000</td>\n",
       "      <td>2010</td>\n",
       "      <td>30000000.000</td>\n",
       "      <td>967000.000</td>\n",
       "    </tr>\n",
       "  </tbody>\n",
       "</table>\n",
       "</div>"
      ],
      "text/plain": [
       "         id    imdb_id  popularity    budget  revenue original_title  \\\n",
       "2089  42194  tt0411951 0.596        30000000  967000   TEKKEN          \n",
       "2090  42194  tt0411951 0.596        30000000  967000   TEKKEN          \n",
       "\n",
       "                                                                       cast  \\\n",
       "2089  Jon Foo|Kelly Overton|Cary-Hiroyuki Tagawa|Ian Anthony Dale|Luke Goss   \n",
       "2090  Jon Foo|Kelly Overton|Cary-Hiroyuki Tagawa|Ian Anthony Dale|Luke Goss   \n",
       "\n",
       "     homepage          director              tagline  \\\n",
       "2089  NaN      Dwight H. Little  Survival is no game   \n",
       "2090  NaN      Dwight H. Little  Survival is no game   \n",
       "\n",
       "                                                               keywords  \\\n",
       "2089  martial arts|dystopia|based on video game|martial arts tournament   \n",
       "2090  martial arts|dystopia|based on video game|martial arts tournament   \n",
       "\n",
       "                                                                                                                                                                                                                                                                                                                                                                overview  \\\n",
       "2089  In the year of 2039, after World Wars destroy much of the civilization as we know it, territories are no longer run by governments, but by corporations; the mightiest of which is the Mishima Zaibatsu. In order to placate the seething masses of this dystopia, Mishima sponsors Tekken, a tournament in which fighters battle until only one is left standing.   \n",
       "2090  In the year of 2039, after World Wars destroy much of the civilization as we know it, territories are no longer run by governments, but by corporations; the mightiest of which is the Mishima Zaibatsu. In order to placate the seething masses of this dystopia, Mishima sponsors Tekken, a tournament in which fighters battle until only one is left standing.   \n",
       "\n",
       "      runtime                                       genres  \\\n",
       "2089  92       Crime|Drama|Action|Thriller|Science Fiction   \n",
       "2090  92       Crime|Drama|Action|Thriller|Science Fiction   \n",
       "\n",
       "        production_companies release_date  vote_count  vote_average  \\\n",
       "2089  Namco|Light Song Films  3/20/10      110        5.000           \n",
       "2090  Namco|Light Song Films  3/20/10      110        5.000           \n",
       "\n",
       "      release_year   budget_adj  revenue_adj  \n",
       "2089  2010         30000000.000 967000.000    \n",
       "2090  2010         30000000.000 967000.000    "
      ]
     },
     "execution_count": 4,
     "metadata": {},
     "output_type": "execute_result"
    }
   ],
   "source": [
    "movies_df_original.groupby('imdb_id').filter(lambda x: len(x) > 1)"
   ]
  },
  {
   "cell_type": "markdown",
   "metadata": {},
   "source": [
    "The output shows that imdb_id tt0411951 has a duplicate row. Here I assumed that since the two lines have the same imdb_id, the whole rows should be exactly the same. So in <a href=\"#cleaning\">Data Cleaning</a> section I will remove this duplicated row from `movies_df_imdb_id_cleaned`."
   ]
  },
  {
   "cell_type": "markdown",
   "metadata": {},
   "source": [
    "Since I am interested in the revenue for each year, correlation between the revenue with who is acting in the movie, and the correlation between the popularity with who is acting in the movie, I am going to have a look in `revenue`, `popularity`, `cast` and `release_year` columns and find if there are any data required to be cleaned:"
   ]
  },
  {
   "cell_type": "code",
   "execution_count": 5,
   "metadata": {},
   "outputs": [
    {
     "data": {
      "text/plain": [
       "6016"
      ]
     },
     "execution_count": 5,
     "metadata": {},
     "output_type": "execute_result"
    },
    {
     "data": {
      "text/plain": [
       "0"
      ]
     },
     "execution_count": 5,
     "metadata": {},
     "output_type": "execute_result"
    },
    {
     "data": {
      "text/plain": [
       "76"
      ]
     },
     "execution_count": 5,
     "metadata": {},
     "output_type": "execute_result"
    },
    {
     "data": {
      "text/plain": [
       "44"
      ]
     },
     "execution_count": 5,
     "metadata": {},
     "output_type": "execute_result"
    },
    {
     "data": {
      "text/plain": [
       "0"
      ]
     },
     "execution_count": 5,
     "metadata": {},
     "output_type": "execute_result"
    },
    {
     "data": {
      "text/plain": [
       "0"
      ]
     },
     "execution_count": 5,
     "metadata": {},
     "output_type": "execute_result"
    },
    {
     "data": {
      "text/plain": [
       "1960"
      ]
     },
     "execution_count": 5,
     "metadata": {},
     "output_type": "execute_result"
    },
    {
     "data": {
      "text/plain": [
       "2015"
      ]
     },
     "execution_count": 5,
     "metadata": {},
     "output_type": "execute_result"
    }
   ],
   "source": [
    "\n",
    "len(movies_df_original[movies_df_original['revenue'] == 0])\n",
    "len(movies_df_original[movies_df_original['popularity'] == 0])\n",
    "len(movies_df_original[movies_df_original['cast'].isnull()])\n",
    "len(movies_df_original[movies_df_original['director'].isnull()])\n",
    "len(movies_df_original[movies_df_original['vote_average'] == 0])\n",
    "len(movies_df_original[movies_df_original['release_year'] == 0])\n",
    "movies_df_original['release_year'].min()\n",
    "movies_df_original['release_year'].max()\n",
    "\n"
   ]
  },
  {
   "cell_type": "markdown",
   "metadata": {},
   "source": [
    "The outputs show that in `revenue` column, the count of 0s is 6016; in `cast` column, the count of `NaN` is 76; and in `director` column, the count of `NaN` is 44. Therefore in <a href=\"#cleaning\">Data Cleaning</a> section, I will need to removed these rows from and generate new DataFrame instances without these rows."
   ]
  },
  {
   "cell_type": "markdown",
   "metadata": {},
   "source": [
    "<a id='cleaning'></a>\n",
    "### Data Cleaning"
   ]
  },
  {
   "cell_type": "markdown",
   "metadata": {},
   "source": [
    "In summay, in this section I will demonstrate the process of:\n",
    "1. Removing rows from the original dataset `movies_df_original` where `imdb_id` is `NaN` and generate new dataset `movies_df_imdb_id_cleaned`.\n",
    "2. From `movies_df_imdb_id_cleaned` removing rows where `imdb_id` is duplicated.\n",
    "3. Creating a new dataset `movies_df_revenue` from `movies_df_imdb_id_cleaned` where rows that `revenue` field is not zero. This new dataset will be used to analyse the average revenue of each particular year and its trend. This dataset will also be used for analysing the correlation between revenue and actor. Columns in the dataset are: `imdb_id`, `original_title`, `revenue` and `release_year`.\n",
    "4. Creating a new dataset `movies_df_pop` from `movies_df_imdb_id_cleaned` where rows that `popularity` field is not zero. This new dataset will be used for analysing the correlation between popularity and actor. Columns in the dataset are: `imdb_id`, `original_title` and `popularity`.\n",
    "5. Creating a new dataset `movies_df_actor` from `movies_df_imdb_id_cleaned` where rows that `cast` field is not `NaN`. Note that only the first actor listed will be selected. Columns in the dataset are: `imdb_id`, `original_title` and `actor`.\n",
    "6. Creating a new dataset `movies_month_year_count` from `movies_df_imdb_id_cleaned`. Columns in the dataset are years of the original dataset. Each row of the new dataset represents each month of the year. The value in each cell represnts the number of movies released in month of the row in the year of the column."
   ]
  },
  {
   "cell_type": "code",
   "execution_count": 6,
   "metadata": {},
   "outputs": [
    {
     "data": {
      "text/html": [
       "<div>\n",
       "<style>\n",
       "    .dataframe thead tr:only-child th {\n",
       "        text-align: right;\n",
       "    }\n",
       "\n",
       "    .dataframe thead th {\n",
       "        text-align: left;\n",
       "    }\n",
       "\n",
       "    .dataframe tbody tr th {\n",
       "        vertical-align: top;\n",
       "    }\n",
       "</style>\n",
       "<table border=\"1\" class=\"dataframe\">\n",
       "  <thead>\n",
       "    <tr style=\"text-align: right;\">\n",
       "      <th></th>\n",
       "      <th>id</th>\n",
       "      <th>imdb_id</th>\n",
       "      <th>popularity</th>\n",
       "      <th>budget</th>\n",
       "      <th>revenue</th>\n",
       "      <th>original_title</th>\n",
       "      <th>cast</th>\n",
       "      <th>homepage</th>\n",
       "      <th>director</th>\n",
       "      <th>tagline</th>\n",
       "      <th>keywords</th>\n",
       "      <th>overview</th>\n",
       "      <th>runtime</th>\n",
       "      <th>genres</th>\n",
       "      <th>production_companies</th>\n",
       "      <th>release_date</th>\n",
       "      <th>vote_count</th>\n",
       "      <th>vote_average</th>\n",
       "      <th>release_year</th>\n",
       "      <th>budget_adj</th>\n",
       "      <th>revenue_adj</th>\n",
       "    </tr>\n",
       "  </thead>\n",
       "  <tbody>\n",
       "    <tr>\n",
       "      <th>548</th>\n",
       "      <td>355131</td>\n",
       "      <td>NaN</td>\n",
       "      <td>0.108</td>\n",
       "      <td>0</td>\n",
       "      <td>0</td>\n",
       "      <td>Sense8: Creating the World</td>\n",
       "      <td>Tuppence Middleton|Bae Doona |Brian J. Smith|Aml Ameen|Jamie Clayton</td>\n",
       "      <td>NaN</td>\n",
       "      <td>NaN</td>\n",
       "      <td>NaN</td>\n",
       "      <td>sexuality|superhuman|superpower|making of|social issues</td>\n",
       "      <td>NaN</td>\n",
       "      <td>25</td>\n",
       "      <td>Documentary|Science Fiction</td>\n",
       "      <td>Netflix</td>\n",
       "      <td>8/10/15</td>\n",
       "      <td>12</td>\n",
       "      <td>7.500</td>\n",
       "      <td>2015</td>\n",
       "      <td>0.000</td>\n",
       "      <td>0.000</td>\n",
       "    </tr>\n",
       "    <tr>\n",
       "      <th>997</th>\n",
       "      <td>287663</td>\n",
       "      <td>NaN</td>\n",
       "      <td>0.330</td>\n",
       "      <td>0</td>\n",
       "      <td>0</td>\n",
       "      <td>Star Wars Rebels: Spark of Rebellion</td>\n",
       "      <td>Freddie Prinze Jr.|Vanessa Marshall|Steve Blum|Tiya Sircar|Taylor Gray</td>\n",
       "      <td>NaN</td>\n",
       "      <td>Steward Lee|Steven G. Lee</td>\n",
       "      <td>NaN</td>\n",
       "      <td>NaN</td>\n",
       "      <td>A Long Time Ago In A Galaxy Far, Far Awayâ€¦ Against the might of the Galactic Empire, an unlikely band of heroes emerges to renew the fight for freedom.  Five years before the events of Star Wars Episode IV: A New Hope, the reigning evil Empire continues to tighten its grip of power and fear throughout the cosmos. But even amidst the tyranny and oppression of these dark days, a glimmer of light emerges. Meet the ragtag crew of the starship Ghost: Twiâ€™lek pilot Hera, street-smart pickpocket Ezra, team leader Kanan, alien enforcer Zeb, explosives expert Sabine, and Chopper, the cantankerous Droid. Together, they embark on action-packed adventures, battle ruthless villains, and ignite the very first Spark Of Rebellion against a surging tide of Stormtroopers, TIE fighters and the mysterious Inquisitor.</td>\n",
       "      <td>44</td>\n",
       "      <td>NaN</td>\n",
       "      <td>NaN</td>\n",
       "      <td>10/3/14</td>\n",
       "      <td>13</td>\n",
       "      <td>6.800</td>\n",
       "      <td>2014</td>\n",
       "      <td>0.000</td>\n",
       "      <td>0.000</td>\n",
       "    </tr>\n",
       "    <tr>\n",
       "      <th>1528</th>\n",
       "      <td>15257</td>\n",
       "      <td>NaN</td>\n",
       "      <td>0.608</td>\n",
       "      <td>0</td>\n",
       "      <td>0</td>\n",
       "      <td>Hulk vs. Wolverine</td>\n",
       "      <td>Fred Tatasciore|Bryce Johnson|Steve Blum|Nolan North|Michael Adamthwaite</td>\n",
       "      <td>NaN</td>\n",
       "      <td>Frank Paur</td>\n",
       "      <td>NaN</td>\n",
       "      <td>marvel comic|superhero|wolverine|hulk|norse mythology</td>\n",
       "      <td>Department H sends in Wolverine to track down a mysterious beast known by the US Military as the Hulk, who is rampaging across the Canadian wilderness. Surveying the extent of the damage to a destroyed town, Wolverine notices a toxic scent as well as the smell of gunpowder. He is then deployed to the wilderness to resume tracking the creature.</td>\n",
       "      <td>38</td>\n",
       "      <td>Animation|Action|Science Fiction</td>\n",
       "      <td>Marvel Studios</td>\n",
       "      <td>1/27/09</td>\n",
       "      <td>38</td>\n",
       "      <td>6.900</td>\n",
       "      <td>2009</td>\n",
       "      <td>0.000</td>\n",
       "      <td>0.000</td>\n",
       "    </tr>\n",
       "    <tr>\n",
       "      <th>1750</th>\n",
       "      <td>101907</td>\n",
       "      <td>NaN</td>\n",
       "      <td>0.257</td>\n",
       "      <td>0</td>\n",
       "      <td>0</td>\n",
       "      <td>Hulk vs. Thor</td>\n",
       "      <td>Graham McTavish|Fred Tatasciore|Matthew Wolf|Jay Brazeau|Grey Griffin</td>\n",
       "      <td>NaN</td>\n",
       "      <td>Sam Liu</td>\n",
       "      <td>A Battle Between God and Monster</td>\n",
       "      <td>marvel comic|superhero|hulk|norse mythology|superhuman strength</td>\n",
       "      <td>For ages, Odin has protected his kingdom of Asgard. But every winter, the All-Father must rest and regain his strength for one week. During this time, all of Asgard's foes (including trolls, giants, dark elves, and demons) try to claim the realm for their own, but they are always stopped by Odin's son, the mighty Thor, albeit with the loss of many brave Asgardian warriors. Loki, god of mischief, has kidnapped Dr. Bruce Banner and brought him to Asgard with the help of Amora, once Thor's lover, now the supervillain known as the Enchantress. Loki makes Banner angry and he changes into the Hulk. The Enchantress then casts a spell over the Hulk which separates Banner from his monstrous alter-ego and grants Loki control over the Hulk's body.</td>\n",
       "      <td>41</td>\n",
       "      <td>Action|Animation|Fantasy|Science Fiction</td>\n",
       "      <td>Marvel Studios</td>\n",
       "      <td>1/27/09</td>\n",
       "      <td>38</td>\n",
       "      <td>6.400</td>\n",
       "      <td>2009</td>\n",
       "      <td>0.000</td>\n",
       "      <td>0.000</td>\n",
       "    </tr>\n",
       "    <tr>\n",
       "      <th>2401</th>\n",
       "      <td>45644</td>\n",
       "      <td>NaN</td>\n",
       "      <td>0.068</td>\n",
       "      <td>0</td>\n",
       "      <td>0</td>\n",
       "      <td>Opeth: In Live Concert At The Royal Albert Hall</td>\n",
       "      <td>Mikael Ã…kerfeldt|Martin \"Axe\" Axenrot|Martin Mendez|Per Wiberg|Fredrik Ã…kesson</td>\n",
       "      <td>http://www.opeth.com</td>\n",
       "      <td>NaN</td>\n",
       "      <td>The Loyal Disharmonic Orchestra, Conducted By The Powers That Be</td>\n",
       "      <td>NaN</td>\n",
       "      <td>As part of the ongoing celebration of their 20th anniversary, Sweden's Opeth is releasing live footage from the band's recent performance at London's Royal Albert Hall. 'In Live Concert at the Royal Albert Hall' is a fierce testament to Opeth's continued success in the progressive metal community. Opeth performed two sets that evening - the first of the classic, 'Blackwater Park' in its entirety and the second, a chronologically arranged selection of material from the rest of Opeth's catalogue. Bonus DVD features include an exclusive interview and the behind-the-scenes documentary, 'On Tour with Opeth.'  [Tracklist:] 1-01 The Leper Affinity 1-02 Bleak 1-03 Harvest 1-04 The Drapery Falls 1-05 Dirge For November 1-06 The Funeral Portrait 1-07 Patterns In The Ivy 1-08 Blackwater Park 2-01 Forest Of October 2-02 Advent 2-03 April Ethereal 2-04 The Moor 2-05 Wreath 2-06 Hope Leaves 2-07 Harlequin Forest 2-08 The Lotus Eater</td>\n",
       "      <td>163</td>\n",
       "      <td>Music</td>\n",
       "      <td>NaN</td>\n",
       "      <td>9/21/10</td>\n",
       "      <td>10</td>\n",
       "      <td>8.600</td>\n",
       "      <td>2010</td>\n",
       "      <td>0.000</td>\n",
       "      <td>0.000</td>\n",
       "    </tr>\n",
       "    <tr>\n",
       "      <th>4797</th>\n",
       "      <td>369145</td>\n",
       "      <td>NaN</td>\n",
       "      <td>0.168</td>\n",
       "      <td>0</td>\n",
       "      <td>0</td>\n",
       "      <td>Doctor Who: The Snowmen</td>\n",
       "      <td>Matt Smith|Jenna Coleman|Richard E. Grant|Ian McKellen|Neve McIntosh</td>\n",
       "      <td>NaN</td>\n",
       "      <td>NaN</td>\n",
       "      <td>NaN</td>\n",
       "      <td>NaN</td>\n",
       "      <td>Christmas Eve, 1892, and the falling snow is the stuff of fairy tales. When the fairytale becomes a nightmare and a chilling menace threatens Earth, an unorthodox young governess, Clara, calls on the Doctor for help. But the Doctor is in mourning, reclusive and determined not to engage in the problems of the universe. As old friends return, will the Doctor really abandon humankind, or will he fight to save the world and Christmas from the icy clutches of this mysterious menace?</td>\n",
       "      <td>60</td>\n",
       "      <td>NaN</td>\n",
       "      <td>BBC Television UK</td>\n",
       "      <td>12/25/12</td>\n",
       "      <td>10</td>\n",
       "      <td>7.800</td>\n",
       "      <td>2012</td>\n",
       "      <td>0.000</td>\n",
       "      <td>0.000</td>\n",
       "    </tr>\n",
       "    <tr>\n",
       "      <th>4872</th>\n",
       "      <td>269177</td>\n",
       "      <td>NaN</td>\n",
       "      <td>0.091</td>\n",
       "      <td>0</td>\n",
       "      <td>0</td>\n",
       "      <td>Party Bercy</td>\n",
       "      <td>Florence Foresti</td>\n",
       "      <td>NaN</td>\n",
       "      <td>NaN</td>\n",
       "      <td>NaN</td>\n",
       "      <td>NaN</td>\n",
       "      <td>Florence Foresti is offered Bercy tribute to artist she loves: itself.  A show at its disproportion (1m60) with:  Unpublished sketches (not yet written)  New characters (and old)  Live parodies (and video, it is less tiring)  Choreography with chicks (but not too good anyway)  And Guests (if they come).</td>\n",
       "      <td>120</td>\n",
       "      <td>Comedy</td>\n",
       "      <td>TF1 VidÃ©o</td>\n",
       "      <td>9/23/12</td>\n",
       "      <td>15</td>\n",
       "      <td>6.400</td>\n",
       "      <td>2012</td>\n",
       "      <td>0.000</td>\n",
       "      <td>0.000</td>\n",
       "    </tr>\n",
       "    <tr>\n",
       "      <th>6071</th>\n",
       "      <td>279954</td>\n",
       "      <td>NaN</td>\n",
       "      <td>0.004</td>\n",
       "      <td>500</td>\n",
       "      <td>0</td>\n",
       "      <td>Portal: Survive!</td>\n",
       "      <td>Monique Blanchard|Bradley Mixon</td>\n",
       "      <td>https://www.kickstarter.com/projects/colinandconnor/portal-secrets-of-aperture-webseries</td>\n",
       "      <td>Connor McGuire|Colin McGuire</td>\n",
       "      <td>The Cake is a Lie</td>\n",
       "      <td>portal|aperture</td>\n",
       "      <td>A short, live action fan film by Collin and Connor McGuire detailing the fall of the Aperture facility to GlaDOS, as well as Chell's attempt to escape.  Prequel to the Secrets of Aperture webseries.</td>\n",
       "      <td>7</td>\n",
       "      <td>Action|Science Fiction</td>\n",
       "      <td>NaN</td>\n",
       "      <td>10/8/13</td>\n",
       "      <td>11</td>\n",
       "      <td>7.500</td>\n",
       "      <td>2013</td>\n",
       "      <td>468.017</td>\n",
       "      <td>0.000</td>\n",
       "    </tr>\n",
       "    <tr>\n",
       "      <th>7527</th>\n",
       "      <td>50127</td>\n",
       "      <td>NaN</td>\n",
       "      <td>0.570</td>\n",
       "      <td>0</td>\n",
       "      <td>0</td>\n",
       "      <td>Fallen: The Journey</td>\n",
       "      <td>Paul Wesley|Fernanda Andrade|Tom Skerritt|Rick Worthy</td>\n",
       "      <td>NaN</td>\n",
       "      <td>Mikael Salomon</td>\n",
       "      <td>NaN</td>\n",
       "      <td>NaN</td>\n",
       "      <td>A year later, Aaron is still traveling around the world with Camael and his dog Gabriel, redeeming the fallen angels he finds and striving to escape the Powers' wrath. A fallen angel known as Azazel is released from his prison by a shadowy figure, who enlists his help in \"aiding the Redeemer in fulfilling his destiny.\" Camael, having been wounded in a battle with the Powers, goes to Ariel, a fallen angel who has the power to heal, who is also the leader of an organization that protects the Nephilim and the Fallen from the Powers.</td>\n",
       "      <td>80</td>\n",
       "      <td>Action|Adventure|Drama|Fantasy|Family</td>\n",
       "      <td>NaN</td>\n",
       "      <td>1/1/07</td>\n",
       "      <td>11</td>\n",
       "      <td>7.300</td>\n",
       "      <td>2007</td>\n",
       "      <td>0.000</td>\n",
       "      <td>0.000</td>\n",
       "    </tr>\n",
       "    <tr>\n",
       "      <th>7809</th>\n",
       "      <td>50128</td>\n",
       "      <td>NaN</td>\n",
       "      <td>0.061</td>\n",
       "      <td>0</td>\n",
       "      <td>0</td>\n",
       "      <td>Fallen: The Destiny</td>\n",
       "      <td>Paul Wesley|Fernanda Andrade|Tom Skerritt|Rick Worthy</td>\n",
       "      <td>NaN</td>\n",
       "      <td>Mikael Salomon</td>\n",
       "      <td>NaN</td>\n",
       "      <td>NaN</td>\n",
       "      <td>Aaron and Azazel defeat the Powers, and force Mazarin and his second-in-command to leave. When the two return, they discover Camael has been released with the help of a rat. Camael returns to Ariel for help. Aaron, Vilma, Gabriel, and Azazel travel up a mountain where the Light Bringer's temple is. Meanwhile, Mazarin is visited by Michael the Archangel, who tells him that if he wishes to defeat the new threat of Azazel, he may have to join with the Redeemer. Mazarin goes to Camael and Ariel, and tells them of Azazel. He then reluctantly agrees to an alliance, and the four set out to find Aaron.</td>\n",
       "      <td>80</td>\n",
       "      <td>Adventure|Fantasy|Drama|Action|Science Fiction</td>\n",
       "      <td>NaN</td>\n",
       "      <td>1/1/07</td>\n",
       "      <td>13</td>\n",
       "      <td>7.000</td>\n",
       "      <td>2007</td>\n",
       "      <td>0.000</td>\n",
       "      <td>0.000</td>\n",
       "    </tr>\n",
       "  </tbody>\n",
       "</table>\n",
       "</div>"
      ],
      "text/plain": [
       "          id imdb_id  popularity  budget  revenue  \\\n",
       "548   355131  NaN    0.108        0       0         \n",
       "997   287663  NaN    0.330        0       0         \n",
       "1528  15257   NaN    0.608        0       0         \n",
       "1750  101907  NaN    0.257        0       0         \n",
       "2401  45644   NaN    0.068        0       0         \n",
       "4797  369145  NaN    0.168        0       0         \n",
       "4872  269177  NaN    0.091        0       0         \n",
       "6071  279954  NaN    0.004        500     0         \n",
       "7527  50127   NaN    0.570        0       0         \n",
       "7809  50128   NaN    0.061        0       0         \n",
       "\n",
       "                                       original_title  \\\n",
       "548   Sense8: Creating the World                        \n",
       "997   Star Wars Rebels: Spark of Rebellion              \n",
       "1528  Hulk vs. Wolverine                                \n",
       "1750  Hulk vs. Thor                                     \n",
       "2401  Opeth: In Live Concert At The Royal Albert Hall   \n",
       "4797  Doctor Who: The Snowmen                           \n",
       "4872  Party Bercy                                       \n",
       "6071  Portal: Survive!                                  \n",
       "7527  Fallen: The Journey                               \n",
       "7809  Fallen: The Destiny                               \n",
       "\n",
       "                                                                                  cast  \\\n",
       "548   Tuppence Middleton|Bae Doona |Brian J. Smith|Aml Ameen|Jamie Clayton               \n",
       "997   Freddie Prinze Jr.|Vanessa Marshall|Steve Blum|Tiya Sircar|Taylor Gray             \n",
       "1528  Fred Tatasciore|Bryce Johnson|Steve Blum|Nolan North|Michael Adamthwaite           \n",
       "1750  Graham McTavish|Fred Tatasciore|Matthew Wolf|Jay Brazeau|Grey Griffin              \n",
       "2401  Mikael Ã…kerfeldt|Martin \"Axe\" Axenrot|Martin Mendez|Per Wiberg|Fredrik Ã…kesson   \n",
       "4797  Matt Smith|Jenna Coleman|Richard E. Grant|Ian McKellen|Neve McIntosh               \n",
       "4872  Florence Foresti                                                                   \n",
       "6071  Monique Blanchard|Bradley Mixon                                                    \n",
       "7527  Paul Wesley|Fernanda Andrade|Tom Skerritt|Rick Worthy                              \n",
       "7809  Paul Wesley|Fernanda Andrade|Tom Skerritt|Rick Worthy                              \n",
       "\n",
       "                                                                                      homepage  \\\n",
       "548   NaN                                                                                        \n",
       "997   NaN                                                                                        \n",
       "1528  NaN                                                                                        \n",
       "1750  NaN                                                                                        \n",
       "2401  http://www.opeth.com                                                                       \n",
       "4797  NaN                                                                                        \n",
       "4872  NaN                                                                                        \n",
       "6071  https://www.kickstarter.com/projects/colinandconnor/portal-secrets-of-aperture-webseries   \n",
       "7527  NaN                                                                                        \n",
       "7809  NaN                                                                                        \n",
       "\n",
       "                          director  \\\n",
       "548   NaN                            \n",
       "997   Steward Lee|Steven G. Lee      \n",
       "1528  Frank Paur                     \n",
       "1750  Sam Liu                        \n",
       "2401  NaN                            \n",
       "4797  NaN                            \n",
       "4872  NaN                            \n",
       "6071  Connor McGuire|Colin McGuire   \n",
       "7527  Mikael Salomon                 \n",
       "7809  Mikael Salomon                 \n",
       "\n",
       "                                                               tagline  \\\n",
       "548   NaN                                                                \n",
       "997   NaN                                                                \n",
       "1528  NaN                                                                \n",
       "1750  A Battle Between God and Monster                                   \n",
       "2401  The Loyal Disharmonic Orchestra, Conducted By The Powers That Be   \n",
       "4797  NaN                                                                \n",
       "4872  NaN                                                                \n",
       "6071  The Cake is a Lie                                                  \n",
       "7527  NaN                                                                \n",
       "7809  NaN                                                                \n",
       "\n",
       "                                                             keywords  \\\n",
       "548   sexuality|superhuman|superpower|making of|social issues           \n",
       "997   NaN                                                               \n",
       "1528  marvel comic|superhero|wolverine|hulk|norse mythology             \n",
       "1750  marvel comic|superhero|hulk|norse mythology|superhuman strength   \n",
       "2401  NaN                                                               \n",
       "4797  NaN                                                               \n",
       "4872  NaN                                                               \n",
       "6071  portal|aperture                                                   \n",
       "7527  NaN                                                               \n",
       "7809  NaN                                                               \n",
       "\n",
       "                                                                                                                                                                                                                                                                                                                                                                                                                                                                                                                                                                                                                                                                                                                                                                                                                                                                                                                                                                  overview  \\\n",
       "548   NaN                                                                                                                                                                                                                                                                                                                                                                                                                                                                                                                                                                                                                                                                                                                                                                                                                                                                                                                                                                    \n",
       "997   A Long Time Ago In A Galaxy Far, Far Awayâ€¦ Against the might of the Galactic Empire, an unlikely band of heroes emerges to renew the fight for freedom.  Five years before the events of Star Wars Episode IV: A New Hope, the reigning evil Empire continues to tighten its grip of power and fear throughout the cosmos. But even amidst the tyranny and oppression of these dark days, a glimmer of light emerges. Meet the ragtag crew of the starship Ghost: Twiâ€™lek pilot Hera, street-smart pickpocket Ezra, team leader Kanan, alien enforcer Zeb, explosives expert Sabine, and Chopper, the cantankerous Droid. Together, they embark on action-packed adventures, battle ruthless villains, and ignite the very first Spark Of Rebellion against a surging tide of Stormtroopers, TIE fighters and the mysterious Inquisitor.                                                                                                                           \n",
       "1528  Department H sends in Wolverine to track down a mysterious beast known by the US Military as the Hulk, who is rampaging across the Canadian wilderness. Surveying the extent of the damage to a destroyed town, Wolverine notices a toxic scent as well as the smell of gunpowder. He is then deployed to the wilderness to resume tracking the creature.                                                                                                                                                                                                                                                                                                                                                                                                                                                                                                                                                                                                              \n",
       "1750  For ages, Odin has protected his kingdom of Asgard. But every winter, the All-Father must rest and regain his strength for one week. During this time, all of Asgard's foes (including trolls, giants, dark elves, and demons) try to claim the realm for their own, but they are always stopped by Odin's son, the mighty Thor, albeit with the loss of many brave Asgardian warriors. Loki, god of mischief, has kidnapped Dr. Bruce Banner and brought him to Asgard with the help of Amora, once Thor's lover, now the supervillain known as the Enchantress. Loki makes Banner angry and he changes into the Hulk. The Enchantress then casts a spell over the Hulk which separates Banner from his monstrous alter-ego and grants Loki control over the Hulk's body.                                                                                                                                                                                             \n",
       "2401  As part of the ongoing celebration of their 20th anniversary, Sweden's Opeth is releasing live footage from the band's recent performance at London's Royal Albert Hall. 'In Live Concert at the Royal Albert Hall' is a fierce testament to Opeth's continued success in the progressive metal community. Opeth performed two sets that evening - the first of the classic, 'Blackwater Park' in its entirety and the second, a chronologically arranged selection of material from the rest of Opeth's catalogue. Bonus DVD features include an exclusive interview and the behind-the-scenes documentary, 'On Tour with Opeth.'  [Tracklist:] 1-01 The Leper Affinity 1-02 Bleak 1-03 Harvest 1-04 The Drapery Falls 1-05 Dirge For November 1-06 The Funeral Portrait 1-07 Patterns In The Ivy 1-08 Blackwater Park 2-01 Forest Of October 2-02 Advent 2-03 April Ethereal 2-04 The Moor 2-05 Wreath 2-06 Hope Leaves 2-07 Harlequin Forest 2-08 The Lotus Eater   \n",
       "4797  Christmas Eve, 1892, and the falling snow is the stuff of fairy tales. When the fairytale becomes a nightmare and a chilling menace threatens Earth, an unorthodox young governess, Clara, calls on the Doctor for help. But the Doctor is in mourning, reclusive and determined not to engage in the problems of the universe. As old friends return, will the Doctor really abandon humankind, or will he fight to save the world and Christmas from the icy clutches of this mysterious menace?                                                                                                                                                                                                                                                                                                                                                                                                                                                                     \n",
       "4872  Florence Foresti is offered Bercy tribute to artist she loves: itself.  A show at its disproportion (1m60) with:  Unpublished sketches (not yet written)  New characters (and old)  Live parodies (and video, it is less tiring)  Choreography with chicks (but not too good anyway)  And Guests (if they come).                                                                                                                                                                                                                                                                                                                                                                                                                                                                                                                                                                                                                                                       \n",
       "6071  A short, live action fan film by Collin and Connor McGuire detailing the fall of the Aperture facility to GlaDOS, as well as Chell's attempt to escape.  Prequel to the Secrets of Aperture webseries.                                                                                                                                                                                                                                                                                                                                                                                                                                                                                                                                                                                                                                                                                                                                                                 \n",
       "7527  A year later, Aaron is still traveling around the world with Camael and his dog Gabriel, redeeming the fallen angels he finds and striving to escape the Powers' wrath. A fallen angel known as Azazel is released from his prison by a shadowy figure, who enlists his help in \"aiding the Redeemer in fulfilling his destiny.\" Camael, having been wounded in a battle with the Powers, goes to Ariel, a fallen angel who has the power to heal, who is also the leader of an organization that protects the Nephilim and the Fallen from the Powers.                                                                                                                                                                                                                                                                                                                                                                                                                \n",
       "7809  Aaron and Azazel defeat the Powers, and force Mazarin and his second-in-command to leave. When the two return, they discover Camael has been released with the help of a rat. Camael returns to Ariel for help. Aaron, Vilma, Gabriel, and Azazel travel up a mountain where the Light Bringer's temple is. Meanwhile, Mazarin is visited by Michael the Archangel, who tells him that if he wishes to defeat the new threat of Azazel, he may have to join with the Redeemer. Mazarin goes to Camael and Ariel, and tells them of Azazel. He then reluctantly agrees to an alliance, and the four set out to find Aaron.                                                                                                                                                                                                                                                                                                                                              \n",
       "\n",
       "      runtime                                          genres  \\\n",
       "548   25       Documentary|Science Fiction                      \n",
       "997   44       NaN                                              \n",
       "1528  38       Animation|Action|Science Fiction                 \n",
       "1750  41       Action|Animation|Fantasy|Science Fiction         \n",
       "2401  163      Music                                            \n",
       "4797  60       NaN                                              \n",
       "4872  120      Comedy                                           \n",
       "6071  7        Action|Science Fiction                           \n",
       "7527  80       Action|Adventure|Drama|Fantasy|Family            \n",
       "7809  80       Adventure|Fantasy|Drama|Action|Science Fiction   \n",
       "\n",
       "     production_companies release_date  vote_count  vote_average  \\\n",
       "548   Netflix              8/10/15      12         7.500           \n",
       "997   NaN                  10/3/14      13         6.800           \n",
       "1528  Marvel Studios       1/27/09      38         6.900           \n",
       "1750  Marvel Studios       1/27/09      38         6.400           \n",
       "2401  NaN                  9/21/10      10         8.600           \n",
       "4797  BBC Television UK    12/25/12     10         7.800           \n",
       "4872  TF1 VidÃ©o           9/23/12      15         6.400           \n",
       "6071  NaN                  10/8/13      11         7.500           \n",
       "7527  NaN                  1/1/07       11         7.300           \n",
       "7809  NaN                  1/1/07       13         7.000           \n",
       "\n",
       "      release_year  budget_adj  revenue_adj  \n",
       "548   2015         0.000       0.000         \n",
       "997   2014         0.000       0.000         \n",
       "1528  2009         0.000       0.000         \n",
       "1750  2009         0.000       0.000         \n",
       "2401  2010         0.000       0.000         \n",
       "4797  2012         0.000       0.000         \n",
       "4872  2012         0.000       0.000         \n",
       "6071  2013         468.017     0.000         \n",
       "7527  2007         0.000       0.000         \n",
       "7809  2007         0.000       0.000         "
      ]
     },
     "execution_count": 6,
     "metadata": {},
     "output_type": "execute_result"
    }
   ],
   "source": [
    "#1. Removing rows from the original dataset movies_df_original where imdb_id is NaN and generate new dataset movies_df_imdb_id_cleaned.\n",
    "#Firstly returning all rows where `imdb_id` = `NaN`:\n",
    "movies_df_original[movies_df_original['imdb_id'].isnull()]"
   ]
  },
  {
   "cell_type": "code",
   "execution_count": 7,
   "metadata": {},
   "outputs": [
    {
     "data": {
      "text/html": [
       "<div>\n",
       "<style>\n",
       "    .dataframe thead tr:only-child th {\n",
       "        text-align: right;\n",
       "    }\n",
       "\n",
       "    .dataframe thead th {\n",
       "        text-align: left;\n",
       "    }\n",
       "\n",
       "    .dataframe tbody tr th {\n",
       "        vertical-align: top;\n",
       "    }\n",
       "</style>\n",
       "<table border=\"1\" class=\"dataframe\">\n",
       "  <thead>\n",
       "    <tr style=\"text-align: right;\">\n",
       "      <th></th>\n",
       "      <th>id</th>\n",
       "      <th>imdb_id</th>\n",
       "      <th>popularity</th>\n",
       "      <th>budget</th>\n",
       "      <th>revenue</th>\n",
       "      <th>original_title</th>\n",
       "      <th>cast</th>\n",
       "      <th>homepage</th>\n",
       "      <th>director</th>\n",
       "      <th>tagline</th>\n",
       "      <th>keywords</th>\n",
       "      <th>overview</th>\n",
       "      <th>runtime</th>\n",
       "      <th>genres</th>\n",
       "      <th>production_companies</th>\n",
       "      <th>release_date</th>\n",
       "      <th>vote_count</th>\n",
       "      <th>vote_average</th>\n",
       "      <th>release_year</th>\n",
       "      <th>budget_adj</th>\n",
       "      <th>revenue_adj</th>\n",
       "    </tr>\n",
       "  </thead>\n",
       "  <tbody>\n",
       "  </tbody>\n",
       "</table>\n",
       "</div>"
      ],
      "text/plain": [
       "Empty DataFrame\n",
       "Columns: [id, imdb_id, popularity, budget, revenue, original_title, cast, homepage, director, tagline, keywords, overview, runtime, genres, production_companies, release_date, vote_count, vote_average, release_year, budget_adj, revenue_adj]\n",
       "Index: []"
      ]
     },
     "execution_count": 7,
     "metadata": {},
     "output_type": "execute_result"
    },
    {
     "data": {
      "text/plain": [
       "id                      10856\n",
       "imdb_id                 10856\n",
       "popularity              10856\n",
       "budget                  10856\n",
       "revenue                 10856\n",
       "original_title          10856\n",
       "cast                    10780\n",
       "homepage                2934 \n",
       "director                10816\n",
       "tagline                 8039 \n",
       "keywords                9369 \n",
       "overview                10853\n",
       "runtime                 10856\n",
       "genres                  10835\n",
       "production_companies    9831 \n",
       "release_date            10856\n",
       "vote_count              10856\n",
       "vote_average            10856\n",
       "release_year            10856\n",
       "budget_adj              10856\n",
       "revenue_adj             10856\n",
       "dtype: int64"
      ]
     },
     "execution_count": 7,
     "metadata": {},
     "output_type": "execute_result"
    }
   ],
   "source": [
    "#Now drop all rows whose imdb_id is NaN (10 rows) and return a new DataFrame instance movies_df_imdb_id_cleaned:\n",
    "movies_df_imdb_id_cleaned = movies_df_original.dropna(subset=['imdb_id'])\n",
    "\n",
    "#Check if rows are dropped. The output should return nothing:\n",
    "movies_df_imdb_id_cleaned[movies_df_imdb_id_cleaned['imdb_id'].isnull()]\n",
    "\n",
    "#Check count of non-NaN rows of each column of movies_df_imdb_id_cleaned and confirm NaN rows of imdb_id column are deleted:\n",
    "movies_df_imdb_id_cleaned.count()"
   ]
  },
  {
   "cell_type": "code",
   "execution_count": 8,
   "metadata": {
    "scrolled": true
   },
   "outputs": [
    {
     "data": {
      "text/html": [
       "<div>\n",
       "<style>\n",
       "    .dataframe thead tr:only-child th {\n",
       "        text-align: right;\n",
       "    }\n",
       "\n",
       "    .dataframe thead th {\n",
       "        text-align: left;\n",
       "    }\n",
       "\n",
       "    .dataframe tbody tr th {\n",
       "        vertical-align: top;\n",
       "    }\n",
       "</style>\n",
       "<table border=\"1\" class=\"dataframe\">\n",
       "  <thead>\n",
       "    <tr style=\"text-align: right;\">\n",
       "      <th></th>\n",
       "      <th>id</th>\n",
       "      <th>imdb_id</th>\n",
       "      <th>popularity</th>\n",
       "      <th>budget</th>\n",
       "      <th>revenue</th>\n",
       "      <th>original_title</th>\n",
       "      <th>cast</th>\n",
       "      <th>homepage</th>\n",
       "      <th>director</th>\n",
       "      <th>tagline</th>\n",
       "      <th>keywords</th>\n",
       "      <th>overview</th>\n",
       "      <th>runtime</th>\n",
       "      <th>genres</th>\n",
       "      <th>production_companies</th>\n",
       "      <th>release_date</th>\n",
       "      <th>vote_count</th>\n",
       "      <th>vote_average</th>\n",
       "      <th>release_year</th>\n",
       "      <th>budget_adj</th>\n",
       "      <th>revenue_adj</th>\n",
       "    </tr>\n",
       "  </thead>\n",
       "  <tbody>\n",
       "    <tr>\n",
       "      <th>2089</th>\n",
       "      <td>42194</td>\n",
       "      <td>tt0411951</td>\n",
       "      <td>0.596</td>\n",
       "      <td>30000000</td>\n",
       "      <td>967000</td>\n",
       "      <td>TEKKEN</td>\n",
       "      <td>Jon Foo|Kelly Overton|Cary-Hiroyuki Tagawa|Ian Anthony Dale|Luke Goss</td>\n",
       "      <td>NaN</td>\n",
       "      <td>Dwight H. Little</td>\n",
       "      <td>Survival is no game</td>\n",
       "      <td>martial arts|dystopia|based on video game|martial arts tournament</td>\n",
       "      <td>In the year of 2039, after World Wars destroy much of the civilization as we know it, territories are no longer run by governments, but by corporations; the mightiest of which is the Mishima Zaibatsu. In order to placate the seething masses of this dystopia, Mishima sponsors Tekken, a tournament in which fighters battle until only one is left standing.</td>\n",
       "      <td>92</td>\n",
       "      <td>Crime|Drama|Action|Thriller|Science Fiction</td>\n",
       "      <td>Namco|Light Song Films</td>\n",
       "      <td>3/20/10</td>\n",
       "      <td>110</td>\n",
       "      <td>5.000</td>\n",
       "      <td>2010</td>\n",
       "      <td>30000000.000</td>\n",
       "      <td>967000.000</td>\n",
       "    </tr>\n",
       "    <tr>\n",
       "      <th>2090</th>\n",
       "      <td>42194</td>\n",
       "      <td>tt0411951</td>\n",
       "      <td>0.596</td>\n",
       "      <td>30000000</td>\n",
       "      <td>967000</td>\n",
       "      <td>TEKKEN</td>\n",
       "      <td>Jon Foo|Kelly Overton|Cary-Hiroyuki Tagawa|Ian Anthony Dale|Luke Goss</td>\n",
       "      <td>NaN</td>\n",
       "      <td>Dwight H. Little</td>\n",
       "      <td>Survival is no game</td>\n",
       "      <td>martial arts|dystopia|based on video game|martial arts tournament</td>\n",
       "      <td>In the year of 2039, after World Wars destroy much of the civilization as we know it, territories are no longer run by governments, but by corporations; the mightiest of which is the Mishima Zaibatsu. In order to placate the seething masses of this dystopia, Mishima sponsors Tekken, a tournament in which fighters battle until only one is left standing.</td>\n",
       "      <td>92</td>\n",
       "      <td>Crime|Drama|Action|Thriller|Science Fiction</td>\n",
       "      <td>Namco|Light Song Films</td>\n",
       "      <td>3/20/10</td>\n",
       "      <td>110</td>\n",
       "      <td>5.000</td>\n",
       "      <td>2010</td>\n",
       "      <td>30000000.000</td>\n",
       "      <td>967000.000</td>\n",
       "    </tr>\n",
       "  </tbody>\n",
       "</table>\n",
       "</div>"
      ],
      "text/plain": [
       "         id    imdb_id  popularity    budget  revenue original_title  \\\n",
       "2089  42194  tt0411951 0.596        30000000  967000   TEKKEN          \n",
       "2090  42194  tt0411951 0.596        30000000  967000   TEKKEN          \n",
       "\n",
       "                                                                       cast  \\\n",
       "2089  Jon Foo|Kelly Overton|Cary-Hiroyuki Tagawa|Ian Anthony Dale|Luke Goss   \n",
       "2090  Jon Foo|Kelly Overton|Cary-Hiroyuki Tagawa|Ian Anthony Dale|Luke Goss   \n",
       "\n",
       "     homepage          director              tagline  \\\n",
       "2089  NaN      Dwight H. Little  Survival is no game   \n",
       "2090  NaN      Dwight H. Little  Survival is no game   \n",
       "\n",
       "                                                               keywords  \\\n",
       "2089  martial arts|dystopia|based on video game|martial arts tournament   \n",
       "2090  martial arts|dystopia|based on video game|martial arts tournament   \n",
       "\n",
       "                                                                                                                                                                                                                                                                                                                                                                overview  \\\n",
       "2089  In the year of 2039, after World Wars destroy much of the civilization as we know it, territories are no longer run by governments, but by corporations; the mightiest of which is the Mishima Zaibatsu. In order to placate the seething masses of this dystopia, Mishima sponsors Tekken, a tournament in which fighters battle until only one is left standing.   \n",
       "2090  In the year of 2039, after World Wars destroy much of the civilization as we know it, territories are no longer run by governments, but by corporations; the mightiest of which is the Mishima Zaibatsu. In order to placate the seething masses of this dystopia, Mishima sponsors Tekken, a tournament in which fighters battle until only one is left standing.   \n",
       "\n",
       "      runtime                                       genres  \\\n",
       "2089  92       Crime|Drama|Action|Thriller|Science Fiction   \n",
       "2090  92       Crime|Drama|Action|Thriller|Science Fiction   \n",
       "\n",
       "        production_companies release_date  vote_count  vote_average  \\\n",
       "2089  Namco|Light Song Films  3/20/10      110        5.000           \n",
       "2090  Namco|Light Song Films  3/20/10      110        5.000           \n",
       "\n",
       "      release_year   budget_adj  revenue_adj  \n",
       "2089  2010         30000000.000 967000.000    \n",
       "2090  2010         30000000.000 967000.000    "
      ]
     },
     "execution_count": 8,
     "metadata": {},
     "output_type": "execute_result"
    },
    {
     "data": {
      "text/html": [
       "<div>\n",
       "<style>\n",
       "    .dataframe thead tr:only-child th {\n",
       "        text-align: right;\n",
       "    }\n",
       "\n",
       "    .dataframe thead th {\n",
       "        text-align: left;\n",
       "    }\n",
       "\n",
       "    .dataframe tbody tr th {\n",
       "        vertical-align: top;\n",
       "    }\n",
       "</style>\n",
       "<table border=\"1\" class=\"dataframe\">\n",
       "  <thead>\n",
       "    <tr style=\"text-align: right;\">\n",
       "      <th></th>\n",
       "      <th>id</th>\n",
       "      <th>imdb_id</th>\n",
       "      <th>popularity</th>\n",
       "      <th>budget</th>\n",
       "      <th>revenue</th>\n",
       "      <th>original_title</th>\n",
       "      <th>cast</th>\n",
       "      <th>homepage</th>\n",
       "      <th>director</th>\n",
       "      <th>tagline</th>\n",
       "      <th>keywords</th>\n",
       "      <th>overview</th>\n",
       "      <th>runtime</th>\n",
       "      <th>genres</th>\n",
       "      <th>production_companies</th>\n",
       "      <th>release_date</th>\n",
       "      <th>vote_count</th>\n",
       "      <th>vote_average</th>\n",
       "      <th>release_year</th>\n",
       "      <th>budget_adj</th>\n",
       "      <th>revenue_adj</th>\n",
       "    </tr>\n",
       "  </thead>\n",
       "  <tbody>\n",
       "  </tbody>\n",
       "</table>\n",
       "</div>"
      ],
      "text/plain": [
       "Empty DataFrame\n",
       "Columns: [id, imdb_id, popularity, budget, revenue, original_title, cast, homepage, director, tagline, keywords, overview, runtime, genres, production_companies, release_date, vote_count, vote_average, release_year, budget_adj, revenue_adj]\n",
       "Index: []"
      ]
     },
     "execution_count": 8,
     "metadata": {},
     "output_type": "execute_result"
    }
   ],
   "source": [
    "#2. From movies_df_imdb_id_cleaned removing rows where imdb_id is duplicated.\n",
    "# Now from movies_df_imdb_id_cleaned, I want to check if any of the id is duplicate\n",
    "(movies_df_imdb_id_cleaned.groupby('imdb_id').filter(lambda x: len(x) > 1))\n",
    "# Then I will drop the second row as duplicate and keep the top row\n",
    "movies_df_imdb_id_cleaned = movies_df_imdb_id_cleaned.drop_duplicates(subset='imdb_id', keep='first')\n",
    "\n",
    "# Double-check that there is no duplicate imdb_id anymore. This should return nothing:\n",
    "(movies_df_imdb_id_cleaned.groupby('imdb_id').filter(lambda x: len(x) > 1))"
   ]
  },
  {
   "cell_type": "code",
   "execution_count": 9,
   "metadata": {
    "collapsed": true
   },
   "outputs": [],
   "source": [
    "# Defining functions that can be used to extract data:\n",
    "\n",
    "# return_cleaned_data_for_num_column: returning a new DataFrame instance that containing imdb_id, original_title and\n",
    "# the other single column in interest, where the value of the column in interested is selecting by comparing with the passed-in \n",
    "# numerical parameter compared_value.\n",
    "\n",
    "def return_cleaned_data_for_num_column(column_interested, compared_value):\n",
    "    df_column_interested = movies_df_imdb_id_cleaned[['imdb_id', 'original_title', column_interested]].copy()\n",
    "    return df_column_interested[df_column_interested[column_interested ]!= compared_value]\n",
    "\n",
    "# return_cleaned_data_for_num_column: returning a new DataFrame instance that containing imdb_id, original_title and\n",
    "# the other single non-numerical column in interest, where the value of the column in interested is selected \n",
    "# if it is not null.\n",
    "def return_cleaned_data_for_non_num_column(column_interested):\n",
    "    df_column_interested = movies_df_imdb_id_cleaned[['imdb_id', 'original_title', column_interested]].copy()\n",
    "    return df_column_interested[df_column_interested[column_interested].notnull()]\n",
    "\n",
    "# Function used to merge two tables:\n",
    "def table_merge(left_table, left_table_columns, right_table, right_table_columns, on_column, how_method):\n",
    "    return pd.merge(left_table[left_table_columns], right_table[right_table_columns], on=on_column, how=how_method)\n",
    "\n",
    "# get_first_actor: returning the first actor in the cast column for each movie.\n",
    "def get_first_actor(actors):\n",
    "    return actors.split('|')[0]\n"
   ]
  },
  {
   "cell_type": "code",
   "execution_count": 10,
   "metadata": {
    "collapsed": true
   },
   "outputs": [],
   "source": [
    "\n",
    "#3. Creating a new dataset movies_df_revenue from movies_df_imdb_id_cleaned where rows that revenue field is zero. \n",
    "#   This new dataset will be used for analysing the correlation between revenue and actor. \n",
    "#   Columns in the dataset are: imdb_id, original_title and revenue.\n",
    "\n",
    "\n",
    "movies_df_revenue = return_cleaned_data_for_num_column('revenue', 0)\n",
    "movies_df_revenue = movies_df_revenue.reset_index()\n",
    "\n",
    "# Now I will add release year column to the current revenue table:\n",
    "movies_df_revenue = table_merge(movies_df_revenue, \\\n",
    "                                ['imdb_id', 'original_title', 'revenue'], \\\n",
    "                                movies_df_imdb_id_cleaned, ['imdb_id', 'release_year'], \\\n",
    "                                'imdb_id', \\\n",
    "                                'inner')\n",
    "\n",
    "# Also shows the statistics of revenue column and store these as variables for later use.\n",
    "movies_average_revenue = movies_df_revenue['revenue'].mean()\n",
    "movies_revenue_std = movies_df_revenue['revenue'].std(ddof=0) # considering as population\n",
    "movies_revenue_median = movies_df_revenue['revenue'].median()"
   ]
  },
  {
   "cell_type": "code",
   "execution_count": 11,
   "metadata": {},
   "outputs": [
    {
     "data": {
      "text/html": [
       "<div>\n",
       "<style>\n",
       "    .dataframe thead tr:only-child th {\n",
       "        text-align: right;\n",
       "    }\n",
       "\n",
       "    .dataframe thead th {\n",
       "        text-align: left;\n",
       "    }\n",
       "\n",
       "    .dataframe tbody tr th {\n",
       "        vertical-align: top;\n",
       "    }\n",
       "</style>\n",
       "<table border=\"1\" class=\"dataframe\">\n",
       "  <thead>\n",
       "    <tr style=\"text-align: right;\">\n",
       "      <th></th>\n",
       "      <th>imdb_id</th>\n",
       "      <th>original_title</th>\n",
       "      <th>popularity</th>\n",
       "    </tr>\n",
       "  </thead>\n",
       "  <tbody>\n",
       "    <tr>\n",
       "      <th>0</th>\n",
       "      <td>tt0369610</td>\n",
       "      <td>Jurassic World</td>\n",
       "      <td>32.986</td>\n",
       "    </tr>\n",
       "    <tr>\n",
       "      <th>1</th>\n",
       "      <td>tt1392190</td>\n",
       "      <td>Mad Max: Fury Road</td>\n",
       "      <td>28.420</td>\n",
       "    </tr>\n",
       "    <tr>\n",
       "      <th>2</th>\n",
       "      <td>tt2908446</td>\n",
       "      <td>Insurgent</td>\n",
       "      <td>13.113</td>\n",
       "    </tr>\n",
       "    <tr>\n",
       "      <th>3</th>\n",
       "      <td>tt2488496</td>\n",
       "      <td>Star Wars: The Force Awakens</td>\n",
       "      <td>11.173</td>\n",
       "    </tr>\n",
       "    <tr>\n",
       "      <th>4</th>\n",
       "      <td>tt2820852</td>\n",
       "      <td>Furious 7</td>\n",
       "      <td>9.335</td>\n",
       "    </tr>\n",
       "  </tbody>\n",
       "</table>\n",
       "</div>"
      ],
      "text/plain": [
       "     imdb_id                original_title  popularity\n",
       "0  tt0369610  Jurassic World               32.986     \n",
       "1  tt1392190  Mad Max: Fury Road           28.420     \n",
       "2  tt2908446  Insurgent                    13.113     \n",
       "3  tt2488496  Star Wars: The Force Awakens 11.173     \n",
       "4  tt2820852  Furious 7                    9.335      "
      ]
     },
     "execution_count": 11,
     "metadata": {},
     "output_type": "execute_result"
    }
   ],
   "source": [
    "# 4. Creating a new dataset movies_df_pop from movies_df_imdb_id_cleaned where rows that popularity field is zero. \n",
    "#    This new dataset will be used for analysing the correlation between popularity and actor. \n",
    "#    Columns in the dataset are: imdb_id, original_title and popularity.\n",
    "movies_df_pop = return_cleaned_data_for_num_column('popularity', 0)\n",
    "movies_df_pop.head()\n",
    "\n",
    "# Also shows the statistics of popularity column. And store some statistics into variables for later use.\n",
    "movies_average_pop = movies_df_pop['popularity'].mean()\n",
    "movies_pop_std = movies_df_pop['popularity'].std(ddof=0) # considering as the population\n",
    "movies_pop_median = movies_df_pop['popularity'].median()"
   ]
  },
  {
   "cell_type": "code",
   "execution_count": 12,
   "metadata": {},
   "outputs": [
    {
     "data": {
      "text/html": [
       "<div>\n",
       "<style>\n",
       "    .dataframe thead tr:only-child th {\n",
       "        text-align: right;\n",
       "    }\n",
       "\n",
       "    .dataframe thead th {\n",
       "        text-align: left;\n",
       "    }\n",
       "\n",
       "    .dataframe tbody tr th {\n",
       "        vertical-align: top;\n",
       "    }\n",
       "</style>\n",
       "<table border=\"1\" class=\"dataframe\">\n",
       "  <thead>\n",
       "    <tr style=\"text-align: right;\">\n",
       "      <th></th>\n",
       "      <th>imdb_id</th>\n",
       "      <th>original_title</th>\n",
       "      <th>cast</th>\n",
       "    </tr>\n",
       "  </thead>\n",
       "  <tbody>\n",
       "    <tr>\n",
       "      <th>0</th>\n",
       "      <td>tt0369610</td>\n",
       "      <td>Jurassic World</td>\n",
       "      <td>Chris Pratt</td>\n",
       "    </tr>\n",
       "    <tr>\n",
       "      <th>1</th>\n",
       "      <td>tt1392190</td>\n",
       "      <td>Mad Max: Fury Road</td>\n",
       "      <td>Tom Hardy</td>\n",
       "    </tr>\n",
       "    <tr>\n",
       "      <th>2</th>\n",
       "      <td>tt2908446</td>\n",
       "      <td>Insurgent</td>\n",
       "      <td>Shailene Woodley</td>\n",
       "    </tr>\n",
       "    <tr>\n",
       "      <th>3</th>\n",
       "      <td>tt2488496</td>\n",
       "      <td>Star Wars: The Force Awakens</td>\n",
       "      <td>Harrison Ford</td>\n",
       "    </tr>\n",
       "    <tr>\n",
       "      <th>4</th>\n",
       "      <td>tt2820852</td>\n",
       "      <td>Furious 7</td>\n",
       "      <td>Vin Diesel</td>\n",
       "    </tr>\n",
       "  </tbody>\n",
       "</table>\n",
       "</div>"
      ],
      "text/plain": [
       "     imdb_id                original_title              cast\n",
       "0  tt0369610  Jurassic World                Chris Pratt     \n",
       "1  tt1392190  Mad Max: Fury Road            Tom Hardy       \n",
       "2  tt2908446  Insurgent                     Shailene Woodley\n",
       "3  tt2488496  Star Wars: The Force Awakens  Harrison Ford   \n",
       "4  tt2820852  Furious 7                     Vin Diesel      "
      ]
     },
     "execution_count": 12,
     "metadata": {},
     "output_type": "execute_result"
    }
   ],
   "source": [
    "# 5. Creating a new dataset movies_df_actor from movies_df_imdb_id_cleaned where rows that cast field is not NaN.\n",
    "#    Note that only the first actor listed will be selected. Therefore there should not have any duplicate imdb_id in this dataset.\n",
    "#    Columns in the dataset are: imdb_id, original_title and actor.\n",
    "movies_df_actor = return_cleaned_data_for_non_num_column('cast')\n",
    "movies_df_actor['cast'] = movies_df_actor['cast'].apply(get_first_actor)\n",
    "movies_df_actor.head()"
   ]
  },
  {
   "cell_type": "markdown",
   "metadata": {},
   "source": []
  },
  {
   "cell_type": "code",
   "execution_count": 13,
   "metadata": {},
   "outputs": [
    {
     "data": {
      "text/html": [
       "<div>\n",
       "<style>\n",
       "    .dataframe thead tr:only-child th {\n",
       "        text-align: right;\n",
       "    }\n",
       "\n",
       "    .dataframe thead th {\n",
       "        text-align: left;\n",
       "    }\n",
       "\n",
       "    .dataframe tbody tr th {\n",
       "        vertical-align: top;\n",
       "    }\n",
       "</style>\n",
       "<table border=\"1\" class=\"dataframe\">\n",
       "  <thead>\n",
       "    <tr style=\"text-align: right;\">\n",
       "      <th>YEAR</th>\n",
       "      <th>1960</th>\n",
       "      <th>1961</th>\n",
       "      <th>1962</th>\n",
       "      <th>1963</th>\n",
       "      <th>1964</th>\n",
       "      <th>1965</th>\n",
       "      <th>1966</th>\n",
       "      <th>1967</th>\n",
       "      <th>1968</th>\n",
       "      <th>1969</th>\n",
       "      <th>1970</th>\n",
       "      <th>1971</th>\n",
       "      <th>1972</th>\n",
       "      <th>1973</th>\n",
       "      <th>1974</th>\n",
       "      <th>1975</th>\n",
       "      <th>1976</th>\n",
       "      <th>1977</th>\n",
       "      <th>1978</th>\n",
       "      <th>1979</th>\n",
       "      <th>1980</th>\n",
       "      <th>1981</th>\n",
       "      <th>1982</th>\n",
       "      <th>1983</th>\n",
       "      <th>1984</th>\n",
       "      <th>1985</th>\n",
       "      <th>1986</th>\n",
       "      <th>1987</th>\n",
       "      <th>1988</th>\n",
       "      <th>1989</th>\n",
       "      <th>1990</th>\n",
       "      <th>1991</th>\n",
       "      <th>1992</th>\n",
       "      <th>1993</th>\n",
       "      <th>1994</th>\n",
       "      <th>1995</th>\n",
       "      <th>1996</th>\n",
       "      <th>1997</th>\n",
       "      <th>1998</th>\n",
       "      <th>1999</th>\n",
       "      <th>2000</th>\n",
       "      <th>2001</th>\n",
       "      <th>2002</th>\n",
       "      <th>2003</th>\n",
       "      <th>2004</th>\n",
       "      <th>2005</th>\n",
       "      <th>2006</th>\n",
       "      <th>2007</th>\n",
       "      <th>2008</th>\n",
       "      <th>2009</th>\n",
       "      <th>2010</th>\n",
       "      <th>2011</th>\n",
       "      <th>2012</th>\n",
       "      <th>2013</th>\n",
       "      <th>2014</th>\n",
       "      <th>2015</th>\n",
       "    </tr>\n",
       "    <tr>\n",
       "      <th>MONTH</th>\n",
       "      <th></th>\n",
       "      <th></th>\n",
       "      <th></th>\n",
       "      <th></th>\n",
       "      <th></th>\n",
       "      <th></th>\n",
       "      <th></th>\n",
       "      <th></th>\n",
       "      <th></th>\n",
       "      <th></th>\n",
       "      <th></th>\n",
       "      <th></th>\n",
       "      <th></th>\n",
       "      <th></th>\n",
       "      <th></th>\n",
       "      <th></th>\n",
       "      <th></th>\n",
       "      <th></th>\n",
       "      <th></th>\n",
       "      <th></th>\n",
       "      <th></th>\n",
       "      <th></th>\n",
       "      <th></th>\n",
       "      <th></th>\n",
       "      <th></th>\n",
       "      <th></th>\n",
       "      <th></th>\n",
       "      <th></th>\n",
       "      <th></th>\n",
       "      <th></th>\n",
       "      <th></th>\n",
       "      <th></th>\n",
       "      <th></th>\n",
       "      <th></th>\n",
       "      <th></th>\n",
       "      <th></th>\n",
       "      <th></th>\n",
       "      <th></th>\n",
       "      <th></th>\n",
       "      <th></th>\n",
       "      <th></th>\n",
       "      <th></th>\n",
       "      <th></th>\n",
       "      <th></th>\n",
       "      <th></th>\n",
       "      <th></th>\n",
       "      <th></th>\n",
       "      <th></th>\n",
       "      <th></th>\n",
       "      <th></th>\n",
       "      <th></th>\n",
       "      <th></th>\n",
       "      <th></th>\n",
       "      <th></th>\n",
       "      <th></th>\n",
       "      <th></th>\n",
       "    </tr>\n",
       "  </thead>\n",
       "  <tbody>\n",
       "    <tr>\n",
       "      <th>01</th>\n",
       "      <td>2.000</td>\n",
       "      <td>5.000</td>\n",
       "      <td>1.000</td>\n",
       "      <td>3.000</td>\n",
       "      <td>4.000</td>\n",
       "      <td>0.000</td>\n",
       "      <td>6.000</td>\n",
       "      <td>3.000</td>\n",
       "      <td>3.000</td>\n",
       "      <td>2.000</td>\n",
       "      <td>3.000</td>\n",
       "      <td>2.000</td>\n",
       "      <td>3.000</td>\n",
       "      <td>3.000</td>\n",
       "      <td>2.000</td>\n",
       "      <td>2.000</td>\n",
       "      <td>0.000</td>\n",
       "      <td>5.000</td>\n",
       "      <td>4.000</td>\n",
       "      <td>4.000</td>\n",
       "      <td>3.000</td>\n",
       "      <td>3.000</td>\n",
       "      <td>4.000</td>\n",
       "      <td>3.000</td>\n",
       "      <td>5.000</td>\n",
       "      <td>3.000</td>\n",
       "      <td>10.000</td>\n",
       "      <td>8.000</td>\n",
       "      <td>11.000</td>\n",
       "      <td>8.000</td>\n",
       "      <td>8.000</td>\n",
       "      <td>7.000</td>\n",
       "      <td>9.000</td>\n",
       "      <td>13.000</td>\n",
       "      <td>10.000</td>\n",
       "      <td>9.000</td>\n",
       "      <td>15.000</td>\n",
       "      <td>16.000</td>\n",
       "      <td>18.000</td>\n",
       "      <td>16.000</td>\n",
       "      <td>16.000</td>\n",
       "      <td>24.000</td>\n",
       "      <td>31.000</td>\n",
       "      <td>34.000</td>\n",
       "      <td>37.000</td>\n",
       "      <td>43.000</td>\n",
       "      <td>40.000</td>\n",
       "      <td>51.000</td>\n",
       "      <td>53.000</td>\n",
       "      <td>73.000</td>\n",
       "      <td>51.000</td>\n",
       "      <td>39.000</td>\n",
       "      <td>43.000</td>\n",
       "      <td>51.000</td>\n",
       "      <td>42.000</td>\n",
       "      <td>51.000</td>\n",
       "    </tr>\n",
       "    <tr>\n",
       "      <th>02</th>\n",
       "      <td>2.000</td>\n",
       "      <td>0.000</td>\n",
       "      <td>2.000</td>\n",
       "      <td>0.000</td>\n",
       "      <td>2.000</td>\n",
       "      <td>2.000</td>\n",
       "      <td>4.000</td>\n",
       "      <td>1.000</td>\n",
       "      <td>3.000</td>\n",
       "      <td>2.000</td>\n",
       "      <td>4.000</td>\n",
       "      <td>1.000</td>\n",
       "      <td>2.000</td>\n",
       "      <td>2.000</td>\n",
       "      <td>4.000</td>\n",
       "      <td>2.000</td>\n",
       "      <td>2.000</td>\n",
       "      <td>2.000</td>\n",
       "      <td>2.000</td>\n",
       "      <td>2.000</td>\n",
       "      <td>7.000</td>\n",
       "      <td>4.000</td>\n",
       "      <td>4.000</td>\n",
       "      <td>3.000</td>\n",
       "      <td>5.000</td>\n",
       "      <td>7.000</td>\n",
       "      <td>11.000</td>\n",
       "      <td>7.000</td>\n",
       "      <td>14.000</td>\n",
       "      <td>10.000</td>\n",
       "      <td>5.000</td>\n",
       "      <td>6.000</td>\n",
       "      <td>7.000</td>\n",
       "      <td>10.000</td>\n",
       "      <td>9.000</td>\n",
       "      <td>7.000</td>\n",
       "      <td>19.000</td>\n",
       "      <td>10.000</td>\n",
       "      <td>13.000</td>\n",
       "      <td>18.000</td>\n",
       "      <td>16.000</td>\n",
       "      <td>14.000</td>\n",
       "      <td>22.000</td>\n",
       "      <td>13.000</td>\n",
       "      <td>22.000</td>\n",
       "      <td>25.000</td>\n",
       "      <td>23.000</td>\n",
       "      <td>31.000</td>\n",
       "      <td>49.000</td>\n",
       "      <td>55.000</td>\n",
       "      <td>29.000</td>\n",
       "      <td>36.000</td>\n",
       "      <td>32.000</td>\n",
       "      <td>30.000</td>\n",
       "      <td>43.000</td>\n",
       "      <td>34.000</td>\n",
       "    </tr>\n",
       "    <tr>\n",
       "      <th>03</th>\n",
       "      <td>2.000</td>\n",
       "      <td>2.000</td>\n",
       "      <td>1.000</td>\n",
       "      <td>1.000</td>\n",
       "      <td>5.000</td>\n",
       "      <td>2.000</td>\n",
       "      <td>2.000</td>\n",
       "      <td>5.000</td>\n",
       "      <td>0.000</td>\n",
       "      <td>1.000</td>\n",
       "      <td>2.000</td>\n",
       "      <td>7.000</td>\n",
       "      <td>6.000</td>\n",
       "      <td>8.000</td>\n",
       "      <td>2.000</td>\n",
       "      <td>5.000</td>\n",
       "      <td>2.000</td>\n",
       "      <td>7.000</td>\n",
       "      <td>5.000</td>\n",
       "      <td>5.000</td>\n",
       "      <td>6.000</td>\n",
       "      <td>7.000</td>\n",
       "      <td>6.000</td>\n",
       "      <td>5.000</td>\n",
       "      <td>8.000</td>\n",
       "      <td>11.000</td>\n",
       "      <td>13.000</td>\n",
       "      <td>7.000</td>\n",
       "      <td>8.000</td>\n",
       "      <td>11.000</td>\n",
       "      <td>10.000</td>\n",
       "      <td>10.000</td>\n",
       "      <td>10.000</td>\n",
       "      <td>9.000</td>\n",
       "      <td>17.000</td>\n",
       "      <td>12.000</td>\n",
       "      <td>14.000</td>\n",
       "      <td>11.000</td>\n",
       "      <td>13.000</td>\n",
       "      <td>22.000</td>\n",
       "      <td>23.000</td>\n",
       "      <td>18.000</td>\n",
       "      <td>19.000</td>\n",
       "      <td>20.000</td>\n",
       "      <td>17.000</td>\n",
       "      <td>23.000</td>\n",
       "      <td>38.000</td>\n",
       "      <td>30.000</td>\n",
       "      <td>30.000</td>\n",
       "      <td>30.000</td>\n",
       "      <td>34.000</td>\n",
       "      <td>47.000</td>\n",
       "      <td>44.000</td>\n",
       "      <td>50.000</td>\n",
       "      <td>57.000</td>\n",
       "      <td>62.000</td>\n",
       "    </tr>\n",
       "    <tr>\n",
       "      <th>04</th>\n",
       "      <td>1.000</td>\n",
       "      <td>1.000</td>\n",
       "      <td>2.000</td>\n",
       "      <td>1.000</td>\n",
       "      <td>0.000</td>\n",
       "      <td>4.000</td>\n",
       "      <td>0.000</td>\n",
       "      <td>2.000</td>\n",
       "      <td>4.000</td>\n",
       "      <td>0.000</td>\n",
       "      <td>2.000</td>\n",
       "      <td>2.000</td>\n",
       "      <td>1.000</td>\n",
       "      <td>3.000</td>\n",
       "      <td>6.000</td>\n",
       "      <td>2.000</td>\n",
       "      <td>6.000</td>\n",
       "      <td>5.000</td>\n",
       "      <td>5.000</td>\n",
       "      <td>4.000</td>\n",
       "      <td>2.000</td>\n",
       "      <td>8.000</td>\n",
       "      <td>9.000</td>\n",
       "      <td>8.000</td>\n",
       "      <td>4.000</td>\n",
       "      <td>5.000</td>\n",
       "      <td>3.000</td>\n",
       "      <td>9.000</td>\n",
       "      <td>11.000</td>\n",
       "      <td>14.000</td>\n",
       "      <td>7.000</td>\n",
       "      <td>7.000</td>\n",
       "      <td>11.000</td>\n",
       "      <td>11.000</td>\n",
       "      <td>15.000</td>\n",
       "      <td>14.000</td>\n",
       "      <td>15.000</td>\n",
       "      <td>15.000</td>\n",
       "      <td>14.000</td>\n",
       "      <td>18.000</td>\n",
       "      <td>18.000</td>\n",
       "      <td>18.000</td>\n",
       "      <td>16.000</td>\n",
       "      <td>25.000</td>\n",
       "      <td>30.000</td>\n",
       "      <td>19.000</td>\n",
       "      <td>31.000</td>\n",
       "      <td>38.000</td>\n",
       "      <td>29.000</td>\n",
       "      <td>38.000</td>\n",
       "      <td>32.000</td>\n",
       "      <td>54.000</td>\n",
       "      <td>42.000</td>\n",
       "      <td>46.000</td>\n",
       "      <td>60.000</td>\n",
       "      <td>50.000</td>\n",
       "    </tr>\n",
       "    <tr>\n",
       "      <th>05</th>\n",
       "      <td>2.000</td>\n",
       "      <td>2.000</td>\n",
       "      <td>1.000</td>\n",
       "      <td>2.000</td>\n",
       "      <td>1.000</td>\n",
       "      <td>0.000</td>\n",
       "      <td>4.000</td>\n",
       "      <td>4.000</td>\n",
       "      <td>3.000</td>\n",
       "      <td>3.000</td>\n",
       "      <td>5.000</td>\n",
       "      <td>5.000</td>\n",
       "      <td>4.000</td>\n",
       "      <td>4.000</td>\n",
       "      <td>1.000</td>\n",
       "      <td>3.000</td>\n",
       "      <td>1.000</td>\n",
       "      <td>5.000</td>\n",
       "      <td>4.000</td>\n",
       "      <td>5.000</td>\n",
       "      <td>8.000</td>\n",
       "      <td>8.000</td>\n",
       "      <td>3.000</td>\n",
       "      <td>5.000</td>\n",
       "      <td>10.000</td>\n",
       "      <td>10.000</td>\n",
       "      <td>7.000</td>\n",
       "      <td>6.000</td>\n",
       "      <td>9.000</td>\n",
       "      <td>11.000</td>\n",
       "      <td>9.000</td>\n",
       "      <td>17.000</td>\n",
       "      <td>8.000</td>\n",
       "      <td>14.000</td>\n",
       "      <td>11.000</td>\n",
       "      <td>21.000</td>\n",
       "      <td>19.000</td>\n",
       "      <td>13.000</td>\n",
       "      <td>16.000</td>\n",
       "      <td>9.000</td>\n",
       "      <td>20.000</td>\n",
       "      <td>15.000</td>\n",
       "      <td>24.000</td>\n",
       "      <td>29.000</td>\n",
       "      <td>23.000</td>\n",
       "      <td>34.000</td>\n",
       "      <td>33.000</td>\n",
       "      <td>33.000</td>\n",
       "      <td>27.000</td>\n",
       "      <td>33.000</td>\n",
       "      <td>39.000</td>\n",
       "      <td>28.000</td>\n",
       "      <td>51.000</td>\n",
       "      <td>50.000</td>\n",
       "      <td>55.000</td>\n",
       "      <td>42.000</td>\n",
       "    </tr>\n",
       "  </tbody>\n",
       "</table>\n",
       "</div>"
      ],
      "text/plain": [
       "YEAR   1960  1961  1962  1963  1964  1965  1966  1967  1968  1969  1970  1971  \\\n",
       "MONTH                                                                           \n",
       "01    2.000 5.000 1.000 3.000 4.000 0.000 6.000 3.000 3.000 2.000 3.000 2.000   \n",
       "02    2.000 0.000 2.000 0.000 2.000 2.000 4.000 1.000 3.000 2.000 4.000 1.000   \n",
       "03    2.000 2.000 1.000 1.000 5.000 2.000 2.000 5.000 0.000 1.000 2.000 7.000   \n",
       "04    1.000 1.000 2.000 1.000 0.000 4.000 0.000 2.000 4.000 0.000 2.000 2.000   \n",
       "05    2.000 2.000 1.000 2.000 1.000 0.000 4.000 4.000 3.000 3.000 5.000 5.000   \n",
       "\n",
       "YEAR   1972  1973  1974  1975  1976  1977  1978  1979  1980  1981  1982  1983  \\\n",
       "MONTH                                                                           \n",
       "01    3.000 3.000 2.000 2.000 0.000 5.000 4.000 4.000 3.000 3.000 4.000 3.000   \n",
       "02    2.000 2.000 4.000 2.000 2.000 2.000 2.000 2.000 7.000 4.000 4.000 3.000   \n",
       "03    6.000 8.000 2.000 5.000 2.000 7.000 5.000 5.000 6.000 7.000 6.000 5.000   \n",
       "04    1.000 3.000 6.000 2.000 6.000 5.000 5.000 4.000 2.000 8.000 9.000 8.000   \n",
       "05    4.000 4.000 1.000 3.000 1.000 5.000 4.000 5.000 8.000 8.000 3.000 5.000   \n",
       "\n",
       "YEAR    1984   1985   1986  1987   1988   1989   1990   1991   1992   1993  \\\n",
       "MONTH                                                                        \n",
       "01    5.000  3.000  10.000 8.000 11.000 8.000  8.000  7.000  9.000  13.000   \n",
       "02    5.000  7.000  11.000 7.000 14.000 10.000 5.000  6.000  7.000  10.000   \n",
       "03    8.000  11.000 13.000 7.000 8.000  11.000 10.000 10.000 10.000 9.000    \n",
       "04    4.000  5.000  3.000  9.000 11.000 14.000 7.000  7.000  11.000 11.000   \n",
       "05    10.000 10.000 7.000  6.000 9.000  11.000 9.000  17.000 8.000  14.000   \n",
       "\n",
       "YEAR    1994   1995   1996   1997   1998   1999   2000   2001   2002   2003  \\\n",
       "MONTH                                                                         \n",
       "01    10.000 9.000  15.000 16.000 18.000 16.000 16.000 24.000 31.000 34.000   \n",
       "02    9.000  7.000  19.000 10.000 13.000 18.000 16.000 14.000 22.000 13.000   \n",
       "03    17.000 12.000 14.000 11.000 13.000 22.000 23.000 18.000 19.000 20.000   \n",
       "04    15.000 14.000 15.000 15.000 14.000 18.000 18.000 18.000 16.000 25.000   \n",
       "05    11.000 21.000 19.000 13.000 16.000 9.000  20.000 15.000 24.000 29.000   \n",
       "\n",
       "YEAR    2004   2005   2006   2007   2008   2009   2010   2011   2012   2013  \\\n",
       "MONTH                                                                         \n",
       "01    37.000 43.000 40.000 51.000 53.000 73.000 51.000 39.000 43.000 51.000   \n",
       "02    22.000 25.000 23.000 31.000 49.000 55.000 29.000 36.000 32.000 30.000   \n",
       "03    17.000 23.000 38.000 30.000 30.000 30.000 34.000 47.000 44.000 50.000   \n",
       "04    30.000 19.000 31.000 38.000 29.000 38.000 32.000 54.000 42.000 46.000   \n",
       "05    23.000 34.000 33.000 33.000 27.000 33.000 39.000 28.000 51.000 50.000   \n",
       "\n",
       "YEAR    2014   2015  \n",
       "MONTH                \n",
       "01    42.000 51.000  \n",
       "02    43.000 34.000  \n",
       "03    57.000 62.000  \n",
       "04    60.000 50.000  \n",
       "05    55.000 42.000  "
      ]
     },
     "execution_count": 13,
     "metadata": {},
     "output_type": "execute_result"
    }
   ],
   "source": [
    "# 6. Creating a new dataset `movies_month_year_count` from `movies_df_imdb_id_cleaned`.\n",
    "#    Columns in the dataset are years of the original dataset. \n",
    "#    Each row of the new dataset represents each month of the year. \n",
    "#    The value in each cell represnts the number of movies released in month of the row in the year of the column.\n",
    "import calendar\n",
    "movies_df_release_month_year = movies_df_imdb_id_cleaned[['imdb_id', 'release_date', 'release_year']].copy()\n",
    "\n",
    "# Extract month into release_month column\n",
    "movies_df_release_month_year['release_month'] = pd.to_datetime(movies_df_release_month_year['release_date']).dt.strftime('%m')\n",
    "\n",
    "# Drop release_date column\n",
    "movies_df_release_month_year = movies_df_release_month_year.drop('release_date', 1)\n",
    "\n",
    "# Group by year then group by month and count how many movies released in that month of that year\n",
    "movies_df_groupby_year_month = movies_df_release_month_year.groupby(\\\n",
    "                                                                    [movies_df_release_month_year['release_year'], \\\n",
    "                                                                     movies_df_release_month_year['release_month']]\\\n",
    "                                                                   ).agg('count').rename(columns={'imdb_id':'movie_count'})\\\n",
    "                                                                    .reset_index()\n",
    "# Pivot movies_df_groupby_year_month table so it can be used for drawing the heatmap\n",
    "# Month will be the row index, year will be the column index\n",
    "movies_month_year_count = movies_df_groupby_year_month.pivot(index='release_month', columns='release_year', values='movie_count').copy()\n",
    "\n",
    "# Replace NaN by 0 if there is no movies released in a particular month of a year\n",
    "movies_month_year_count = movies_month_year_count.fillna(0)\n",
    "\n",
    "# Rename index \n",
    "movies_month_year_count.index.name = 'MONTH'\n",
    "movies_month_year_count.columns.name = 'YEAR'\n",
    "movies_month_year_count .head()\n",
    "\n"
   ]
  },
  {
   "cell_type": "markdown",
   "metadata": {},
   "source": []
  },
  {
   "cell_type": "code",
   "execution_count": 14,
   "metadata": {
    "collapsed": true
   },
   "outputs": [],
   "source": [
    "# Note movies_df_director dataset is not used for any analysis. Here I purely just have curiosity to generate this dataset.\n",
    "\n",
    "# 7. Creating a new dataset movies_df_director from movies_df_imdb_id_cleaned where rows that director field is not NaN. \n",
    "#    Columns in the dataset are: imdb_id, director.\n",
    "#    Note that all directors will be selected. Therefore there will be multiple rows with same imdb_id.\n",
    "#    Referencing https://stackoverflow.com/questions/12680754/split-explode-pandas-dataframe-string-entry-to-separate-rows\n",
    "#                http://nikgrozev.com/2015/07/01/reshaping-in-pandas-pivot-pivot-table-stack-and-unstack-explained-with-pictures/\n",
    "\n",
    "# returning dataframe where director list is not split yet\n",
    "movies_df_director_temp = return_cleaned_data_for_non_num_column('director')\n",
    "\n",
    "# What the below line does:\n",
    "# a. For each movie, split director list into list, where the column index of the list is starting from 0,\n",
    "#    and the row index of each movie are imdb_id, original_title.\n",
    "# b. Using stack() to pivot the dataframe that the innermost column index (index of each director for each movie) \n",
    "#    become the innermost row index.\n",
    "#    Stack() is returning a series since imdb_id, original_title and the converted innermost row index are the new row index. \n",
    "#    And apart from the index columns, the returned object only has a single level of column lable, which is 0\n",
    "director_series = pd.DataFrame(movies_df_director_temp['director'].str.split('|').tolist(),index = [movies_df_director_temp.imdb_id,movies_df_director_temp.original_title] ).stack()\n",
    "\n",
    "# Now reset the index of the series instead of using both imdb_id and converted row index as the outer lever index\n",
    "# and selecting the imdb_id and splitted director column and generating a new DataFrame instance\n",
    "movies_df_director = director_series.reset_index()[['imdb_id', 'original_title', 0]]\n",
    "\n",
    "# Now renaming the columns to be 'imdb_id' and 'director'\n",
    "movies_df_director.columns = ['imdb_id', 'original_title', 'director']"
   ]
  },
  {
   "cell_type": "markdown",
   "metadata": {},
   "source": [
    "<a id='eda'></a>\n",
    "## Exploratory Data Analysis\n",
    "\n",
    "Now that I have a set of datasets that denormalised and cleaned from the original dataset, and they are:\n",
    "1. movies_df_revenue\n",
    "2. movies_df_pop\n",
    "3. movies_df_actor\n",
    "\n",
    "Each dataset contains a subset of columns of the original dataset. I will use these datasets for my data exploration to answer the following questions:\n",
    "1. What was the average revenue of all movies in each particular year? is there any trend across all years?\n",
    "2. Grouping movies by actor, for all movies the particular actor had played the leading role, what was the average revenue? How do these statistics compare to the average revenue of all movie population? \n",
    "3. Grouping movies by actor, for all movies the particular actor had played the leading role, what was the average popularity? How do these statistics compare to the average popularity of all movie population? \n",
    "4. In general how is popularity and revenue related?\n",
    "5. How is vote_average of all movies distributed?\n",
    "6. Which month of each year had the most movie released?\n"
   ]
  },
  {
   "cell_type": "markdown",
   "metadata": {},
   "source": [
    "Firstly I will define several functions so they can be used in later analysis."
   ]
  },
  {
   "cell_type": "code",
   "execution_count": 15,
   "metadata": {
    "collapsed": true
   },
   "outputs": [],
   "source": [
    "# Function used to group by a particular field\n",
    "def group(dataset, group_by_column, sum_on_column):\n",
    "    # for original_title column, concatenate rows from the same actor and get the count; for sum_on_column, get the sum\n",
    "    df = dataset.groupby(group_by_column).agg({'original_title': {lambda x: (' | ').join(x), 'count'}, sum_on_column:'sum'})\n",
    "    # drop the first level column lables\n",
    "    df.columns = df.columns.droplevel()\n",
    "    # Reset index so cast will be the column not the index and rename the column lables to be more meaningful\n",
    "    df = df.reset_index()\n",
    "    #df.rename(columns = {'<lambda>':'titles', 'count':'movies_count_by_actor', sum_on_column :'total_' + sum_on_column}, inplace = True)\n",
    "    return df\n",
    "\n",
    "# This function will be used to calculate the z score of a revenue against the average revenue and standard deviation \n",
    "# of all movies that has a revenue.  \n",
    "def standardize_revenue(revenue):\n",
    "    return (revenue - movies_average_revenue)/movies_revenue_std\n",
    "\n",
    "# This function will be used to calculate the z score of a popularity against the average popularit and standard deviation\n",
    "# of all movies that has a popularity.\n",
    "def standardize_popularity(popularity):\n",
    "    return (popularity - movies_average_pop)/movies_pop_std\n",
    "    "
   ]
  },
  {
   "cell_type": "markdown",
   "metadata": {},
   "source": [
    "## Research Question 1 What was the average revenue of all movies in each particular year? is there any trend across all years?"
   ]
  },
  {
   "cell_type": "markdown",
   "metadata": {},
   "source": [
    "The first thing I am going to do in order to answer this question is to group the data by release year:"
   ]
  },
  {
   "cell_type": "code",
   "execution_count": 16,
   "metadata": {
    "collapsed": true,
    "scrolled": false
   },
   "outputs": [],
   "source": [
    "# Firstly I will group the data by release_year and rename columns accordingly\n",
    "movies_year_revenue = group(movies_df_revenue, 'release_year', 'revenue') \n",
    "movies_year_revenue = movies_year_revenue.rename(columns = {'<lambda>': 'titles', 'revenue': 'total_revenue_this_year'})"
   ]
  },
  {
   "cell_type": "markdown",
   "metadata": {},
   "source": [
    "Then I will calculate the average revenue for each year:"
   ]
  },
  {
   "cell_type": "code",
   "execution_count": 17,
   "metadata": {
    "collapsed": true
   },
   "outputs": [],
   "source": [
    "movies_year_revenue['average_revenue_this_year'] = movies_year_revenue['total_revenue_this_year']/ movies_year_revenue['count']"
   ]
  },
  {
   "cell_type": "markdown",
   "metadata": {},
   "source": [
    "Next I am going to add a standardized average revenue column to compare the average revenue of each year with the average revenue of all movies:"
   ]
  },
  {
   "cell_type": "code",
   "execution_count": 18,
   "metadata": {
    "collapsed": true
   },
   "outputs": [],
   "source": [
    "movies_year_revenue['std_year_average_revenue'] = movies_year_revenue['average_revenue_this_year'].apply(standardize_revenue)"
   ]
  },
  {
   "cell_type": "markdown",
   "metadata": {},
   "source": [
    "Now I want to draw two graphs. Graph 1 will show trend of total revenue of each year from 1960 to 2015. Graph 2 will show the trend of average revenue of each year from 1960 to 2015. In Graph 2, I will set the average revenue of all movies as a benchmark:"
   ]
  },
  {
   "cell_type": "code",
   "execution_count": 19,
   "metadata": {},
   "outputs": [
    {
     "data": {
      "text/plain": [
       "<matplotlib.axes._subplots.AxesSubplot at 0x10c840cf8>"
      ]
     },
     "execution_count": 19,
     "metadata": {},
     "output_type": "execute_result"
    },
    {
     "data": {
      "text/plain": [
       "<matplotlib.text.Text at 0x10c8eda58>"
      ]
     },
     "execution_count": 19,
     "metadata": {},
     "output_type": "execute_result"
    },
    {
     "data": {
      "text/plain": [
       "<matplotlib.text.Text at 0x10c93ec88>"
      ]
     },
     "execution_count": 19,
     "metadata": {},
     "output_type": "execute_result"
    },
    {
     "data": {
      "text/plain": [
       "<matplotlib.text.Text at 0x10c8c1390>"
      ]
     },
     "execution_count": 19,
     "metadata": {},
     "output_type": "execute_result"
    },
    {
     "data": {
      "text/plain": [
       "<matplotlib.axes._subplots.AxesSubplot at 0x10c9db5c0>"
      ]
     },
     "execution_count": 19,
     "metadata": {},
     "output_type": "execute_result"
    },
    {
     "data": {
      "text/plain": [
       "<matplotlib.lines.Line2D at 0x10c840908>"
      ]
     },
     "execution_count": 19,
     "metadata": {},
     "output_type": "execute_result"
    },
    {
     "data": {
      "text/plain": [
       "<matplotlib.text.Text at 0x10ca6a6d8>"
      ]
     },
     "execution_count": 19,
     "metadata": {},
     "output_type": "execute_result"
    },
    {
     "data": {
      "text/plain": [
       "<matplotlib.text.Text at 0x10ca1c0f0>"
      ]
     },
     "execution_count": 19,
     "metadata": {},
     "output_type": "execute_result"
    },
    {
     "data": {
      "text/plain": [
       "<matplotlib.text.Text at 0x10ca3bb00>"
      ]
     },
     "execution_count": 19,
     "metadata": {},
     "output_type": "execute_result"
    },
    {
     "data": {
      "image/png": "[encoded data removed]",
      "text/plain": [
       "<matplotlib.figure.Figure at 0x109d4b240>"
      ]
     },
     "metadata": {},
     "output_type": "display_data"
    },
    {
     "data": {
      "image/png": "[encoded data removed]",
      "text/plain": [
       "<matplotlib.figure.Figure at 0x10c991048>"
      ]
     },
     "metadata": {},
     "output_type": "display_data"
    }
   ],
   "source": [
    "movies_year_revenue.plot(kind='line', x='release_year', y='total_revenue_this_year', figsize=(10,10))\n",
    "plt.title('Total Revenue in Year')\n",
    "\n",
    "# Set x-axis label\n",
    "plt.xlabel('Release Year')\n",
    "\n",
    "# Set y-axis label\n",
    "plt.ylabel('Total Revenue in $')\n",
    "\n",
    "movies_year_revenue.plot(kind='line', x='release_year', y='average_revenue_this_year', figsize=(10,10))\n",
    "plt.axhline(y=movies_average_revenue, color='r', linestyle='-')\n",
    "plt.title('Average Revenue in Year')\n",
    "\n",
    "# Set x-axis label\n",
    "plt.xlabel('Release Year')\n",
    "\n",
    "# Set y-axis label\n",
    "plt.ylabel('Average Revenue in $')"
   ]
  },
  {
   "cell_type": "markdown",
   "metadata": {},
   "source": [
    "Graph 1 does not surprise me since it does make sense that the revenue is growing each year as the total movies released each year is increasing.\n",
    "\n",
    "Graph 2 slightly surprised me as I can see the average revenue of 1965 and 1977 are obviously outliers during 1960 to 1990 period. So I am curious to see what was going on in these 2 years."
   ]
  },
  {
   "cell_type": "code",
   "execution_count": 20,
   "metadata": {},
   "outputs": [
    {
     "data": {
      "text/html": [
       "<div>\n",
       "<style>\n",
       "    .dataframe thead tr:only-child th {\n",
       "        text-align: right;\n",
       "    }\n",
       "\n",
       "    .dataframe thead th {\n",
       "        text-align: left;\n",
       "    }\n",
       "\n",
       "    .dataframe tbody tr th {\n",
       "        vertical-align: top;\n",
       "    }\n",
       "</style>\n",
       "<table border=\"1\" class=\"dataframe\">\n",
       "  <thead>\n",
       "    <tr style=\"text-align: right;\">\n",
       "      <th></th>\n",
       "      <th>imdb_id</th>\n",
       "      <th>original_title</th>\n",
       "      <th>revenue</th>\n",
       "      <th>release_year</th>\n",
       "    </tr>\n",
       "  </thead>\n",
       "  <tbody>\n",
       "    <tr>\n",
       "      <th>4810</th>\n",
       "      <td>tt0059800</td>\n",
       "      <td>Thunderball</td>\n",
       "      <td>141195658</td>\n",
       "      <td>1965</td>\n",
       "    </tr>\n",
       "    <tr>\n",
       "      <th>4811</th>\n",
       "      <td>tt0059742</td>\n",
       "      <td>The Sound of Music</td>\n",
       "      <td>163214286</td>\n",
       "      <td>1965</td>\n",
       "    </tr>\n",
       "    <tr>\n",
       "      <th>4812</th>\n",
       "      <td>tt0059113</td>\n",
       "      <td>Doctor Zhivago</td>\n",
       "      <td>111721910</td>\n",
       "      <td>1965</td>\n",
       "    </tr>\n",
       "    <tr>\n",
       "      <th>4813</th>\n",
       "      <td>tt0059797</td>\n",
       "      <td>Those Magnificent Men in Their Flying Machines or How I Flew from London to Paris in 25 hours 11 minutes</td>\n",
       "      <td>29950000</td>\n",
       "      <td>1965</td>\n",
       "    </tr>\n",
       "    <tr>\n",
       "      <th>4814</th>\n",
       "      <td>tt0059245</td>\n",
       "      <td>The Greatest Story Ever Told</td>\n",
       "      <td>12000000</td>\n",
       "      <td>1965</td>\n",
       "    </tr>\n",
       "  </tbody>\n",
       "</table>\n",
       "</div>"
      ],
      "text/plain": [
       "        imdb_id  \\\n",
       "4810  tt0059800   \n",
       "4811  tt0059742   \n",
       "4812  tt0059113   \n",
       "4813  tt0059797   \n",
       "4814  tt0059245   \n",
       "\n",
       "                                                                                                original_title  \\\n",
       "4810  Thunderball                                                                                                \n",
       "4811  The Sound of Music                                                                                         \n",
       "4812  Doctor Zhivago                                                                                             \n",
       "4813  Those Magnificent Men in Their Flying Machines or How I Flew from London to Paris in 25 hours 11 minutes   \n",
       "4814  The Greatest Story Ever Told                                                                               \n",
       "\n",
       "        revenue  release_year  \n",
       "4810  141195658  1965          \n",
       "4811  163214286  1965          \n",
       "4812  111721910  1965          \n",
       "4813  29950000   1965          \n",
       "4814  12000000   1965          "
      ]
     },
     "execution_count": 20,
     "metadata": {},
     "output_type": "execute_result"
    },
    {
     "data": {
      "text/html": [
       "<div>\n",
       "<style>\n",
       "    .dataframe thead tr:only-child th {\n",
       "        text-align: right;\n",
       "    }\n",
       "\n",
       "    .dataframe thead th {\n",
       "        text-align: left;\n",
       "    }\n",
       "\n",
       "    .dataframe tbody tr th {\n",
       "        vertical-align: top;\n",
       "    }\n",
       "</style>\n",
       "<table border=\"1\" class=\"dataframe\">\n",
       "  <thead>\n",
       "    <tr style=\"text-align: right;\">\n",
       "      <th></th>\n",
       "      <th>imdb_id</th>\n",
       "      <th>original_title</th>\n",
       "      <th>revenue</th>\n",
       "      <th>release_year</th>\n",
       "    </tr>\n",
       "  </thead>\n",
       "  <tbody>\n",
       "    <tr>\n",
       "      <th>444</th>\n",
       "      <td>tt0076759</td>\n",
       "      <td>Star Wars</td>\n",
       "      <td>775398007</td>\n",
       "      <td>1977</td>\n",
       "    </tr>\n",
       "    <tr>\n",
       "      <th>445</th>\n",
       "      <td>tt0076752</td>\n",
       "      <td>The Spy Who Loved Me</td>\n",
       "      <td>185438673</td>\n",
       "      <td>1977</td>\n",
       "    </tr>\n",
       "    <tr>\n",
       "      <th>446</th>\n",
       "      <td>tt0076618</td>\n",
       "      <td>The Rescuers</td>\n",
       "      <td>71215869</td>\n",
       "      <td>1977</td>\n",
       "    </tr>\n",
       "    <tr>\n",
       "      <th>447</th>\n",
       "      <td>tt0075686</td>\n",
       "      <td>Annie Hall</td>\n",
       "      <td>38251425</td>\n",
       "      <td>1977</td>\n",
       "    </tr>\n",
       "    <tr>\n",
       "      <th>448</th>\n",
       "      <td>tt0075860</td>\n",
       "      <td>Close Encounters of the Third Kind</td>\n",
       "      <td>303788635</td>\n",
       "      <td>1977</td>\n",
       "    </tr>\n",
       "    <tr>\n",
       "      <th>449</th>\n",
       "      <td>tt0075784</td>\n",
       "      <td>A Bridge Too Far</td>\n",
       "      <td>50750000</td>\n",
       "      <td>1977</td>\n",
       "    </tr>\n",
       "    <tr>\n",
       "      <th>450</th>\n",
       "      <td>tt0076716</td>\n",
       "      <td>Sinbad and the Eye of the Tiger</td>\n",
       "      <td>16000000</td>\n",
       "      <td>1977</td>\n",
       "    </tr>\n",
       "    <tr>\n",
       "      <th>451</th>\n",
       "      <td>tt0076666</td>\n",
       "      <td>Saturday Night Fever</td>\n",
       "      <td>237113184</td>\n",
       "      <td>1977</td>\n",
       "    </tr>\n",
       "    <tr>\n",
       "      <th>452</th>\n",
       "      <td>tt0076141</td>\n",
       "      <td>High Anxiety</td>\n",
       "      <td>31063038</td>\n",
       "      <td>1977</td>\n",
       "    </tr>\n",
       "    <tr>\n",
       "      <th>453</th>\n",
       "      <td>tt0076729</td>\n",
       "      <td>Smokey and the Bandit</td>\n",
       "      <td>126737428</td>\n",
       "      <td>1977</td>\n",
       "    </tr>\n",
       "    <tr>\n",
       "      <th>454</th>\n",
       "      <td>tt0076070</td>\n",
       "      <td>The Gauntlet</td>\n",
       "      <td>26414658</td>\n",
       "      <td>1977</td>\n",
       "    </tr>\n",
       "    <tr>\n",
       "      <th>455</th>\n",
       "      <td>tt0076723</td>\n",
       "      <td>Slap Shot</td>\n",
       "      <td>28000000</td>\n",
       "      <td>1977</td>\n",
       "    </tr>\n",
       "    <tr>\n",
       "      <th>456</th>\n",
       "      <td>tt0076009</td>\n",
       "      <td>Exorcist II: The Heretic</td>\n",
       "      <td>30749142</td>\n",
       "      <td>1977</td>\n",
       "    </tr>\n",
       "    <tr>\n",
       "      <th>457</th>\n",
       "      <td>tt0075648</td>\n",
       "      <td>Airport '77</td>\n",
       "      <td>30000000</td>\n",
       "      <td>1977</td>\n",
       "    </tr>\n",
       "    <tr>\n",
       "      <th>458</th>\n",
       "      <td>tt0074486</td>\n",
       "      <td>Eraserhead</td>\n",
       "      <td>7000000</td>\n",
       "      <td>1977</td>\n",
       "    </tr>\n",
       "    <tr>\n",
       "      <th>459</th>\n",
       "      <td>tt0076504</td>\n",
       "      <td>Orca: The Killer Whale</td>\n",
       "      <td>14717854</td>\n",
       "      <td>1977</td>\n",
       "    </tr>\n",
       "    <tr>\n",
       "      <th>460</th>\n",
       "      <td>tt0076740</td>\n",
       "      <td>Sorcerer</td>\n",
       "      <td>12000000</td>\n",
       "      <td>1977</td>\n",
       "    </tr>\n",
       "    <tr>\n",
       "      <th>461</th>\n",
       "      <td>tt0076299</td>\n",
       "      <td>The Last Wave</td>\n",
       "      <td>1258000</td>\n",
       "      <td>1977</td>\n",
       "    </tr>\n",
       "    <tr>\n",
       "      <th>462</th>\n",
       "      <td>tt0076489</td>\n",
       "      <td>Oh, God!</td>\n",
       "      <td>41687243</td>\n",
       "      <td>1977</td>\n",
       "    </tr>\n",
       "    <tr>\n",
       "      <th>463</th>\n",
       "      <td>tt0076271</td>\n",
       "      <td>Kingdom of the Spiders</td>\n",
       "      <td>17000000</td>\n",
       "      <td>1977</td>\n",
       "    </tr>\n",
       "    <tr>\n",
       "      <th>464</th>\n",
       "      <td>tt0076929</td>\n",
       "      <td>Wizards</td>\n",
       "      <td>9000000</td>\n",
       "      <td>1977</td>\n",
       "    </tr>\n",
       "    <tr>\n",
       "      <th>465</th>\n",
       "      <td>tt0077681</td>\n",
       "      <td>The Hills Have Eyes</td>\n",
       "      <td>25000000</td>\n",
       "      <td>1977</td>\n",
       "    </tr>\n",
       "    <tr>\n",
       "      <th>466</th>\n",
       "      <td>tt0076683</td>\n",
       "      <td>The Sentinel</td>\n",
       "      <td>3</td>\n",
       "      <td>1977</td>\n",
       "    </tr>\n",
       "    <tr>\n",
       "      <th>467</th>\n",
       "      <td>tt0076095</td>\n",
       "      <td>The Goodbye Girl</td>\n",
       "      <td>102000000</td>\n",
       "      <td>1977</td>\n",
       "    </tr>\n",
       "  </tbody>\n",
       "</table>\n",
       "</div>"
      ],
      "text/plain": [
       "       imdb_id                      original_title    revenue  release_year\n",
       "444  tt0076759  Star Wars                           775398007  1977        \n",
       "445  tt0076752  The Spy Who Loved Me                185438673  1977        \n",
       "446  tt0076618  The Rescuers                        71215869   1977        \n",
       "447  tt0075686  Annie Hall                          38251425   1977        \n",
       "448  tt0075860  Close Encounters of the Third Kind  303788635  1977        \n",
       "449  tt0075784  A Bridge Too Far                    50750000   1977        \n",
       "450  tt0076716  Sinbad and the Eye of the Tiger     16000000   1977        \n",
       "451  tt0076666  Saturday Night Fever                237113184  1977        \n",
       "452  tt0076141  High Anxiety                        31063038   1977        \n",
       "453  tt0076729  Smokey and the Bandit               126737428  1977        \n",
       "454  tt0076070  The Gauntlet                        26414658   1977        \n",
       "455  tt0076723  Slap Shot                           28000000   1977        \n",
       "456  tt0076009  Exorcist II: The Heretic            30749142   1977        \n",
       "457  tt0075648  Airport '77                         30000000   1977        \n",
       "458  tt0074486  Eraserhead                          7000000    1977        \n",
       "459  tt0076504  Orca: The Killer Whale              14717854   1977        \n",
       "460  tt0076740  Sorcerer                            12000000   1977        \n",
       "461  tt0076299  The Last Wave                       1258000    1977        \n",
       "462  tt0076489  Oh, God!                            41687243   1977        \n",
       "463  tt0076271  Kingdom of the Spiders              17000000   1977        \n",
       "464  tt0076929  Wizards                             9000000    1977        \n",
       "465  tt0077681  The Hills Have Eyes                 25000000   1977        \n",
       "466  tt0076683  The Sentinel                        3          1977        \n",
       "467  tt0076095  The Goodbye Girl                    102000000  1977        "
      ]
     },
     "execution_count": 20,
     "metadata": {},
     "output_type": "execute_result"
    }
   ],
   "source": [
    "movies_df_revenue[movies_df_revenue['release_year'] == 1965]\n",
    "movies_df_revenue[movies_df_revenue['release_year'] == 1977]"
   ]
  },
  {
   "cell_type": "markdown",
   "metadata": {},
   "source": [
    "By looking at movies released in 1965, Thunderball, The Sound of Music and Doctor Zhivago all had revenue over 100 millions, which contributed to the high average revenue in that year.\n",
    "\n",
    "in 1977, Star War was definitely something. It earned nearly 800 millions revenue. Even there was a movie - The Sentinel - only got 3 dollars revenue in the same year, Star War revenue was just legendary enough to balance it and made this year a special movie year."
   ]
  },
  {
   "cell_type": "markdown",
   "metadata": {},
   "source": [
    "## Research Question 2 Grouping movies by actor, for all movies the particular actor had played the leading role, what was the average revenue? How do these statistics compare to the average revenue of all movie population?\n",
    "To answer this question, firstly I will merge the revenue and actor table so that I can get a list of movies and its leading actor:"
   ]
  },
  {
   "cell_type": "code",
   "execution_count": 21,
   "metadata": {},
   "outputs": [
    {
     "data": {
      "text/plain": [
       "Nicolas Cage             39\n",
       "Robert De Niro           35\n",
       "Bruce Willis             34\n",
       "Johnny Depp              32\n",
       "Sylvester Stallone       32\n",
       "Denzel Washington        30\n",
       "Tom Hanks                30\n",
       "Tom Cruise               28\n",
       "Clint Eastwood           27\n",
       "Arnold Schwarzenegger    26\n",
       "Adam Sandler             25\n",
       "Robin Williams           25\n",
       "Eddie Murphy             25\n",
       "Harrison Ford            25\n",
       "Kevin Costner            24\n",
       "John Travolta            24\n",
       "Michael Douglas          24\n",
       "Jim Carrey               23\n",
       "Mel Gibson               22\n",
       "Matt Damon               22\n",
       "Keanu Reeves             22\n",
       "Ben Stiller              22\n",
       "Liam Neeson              20\n",
       "Mark Wahlberg            20\n",
       "Kurt Russell             20\n",
       "Ben Affleck              20\n",
       "Al Pacino                20\n",
       "George Clooney           19\n",
       "Sandra Bullock           19\n",
       "Dennis Quaid             19\n",
       "                         ..\n",
       "Stephen Boyd             1 \n",
       "Melanie Kinnaman         1 \n",
       "Jason James Richter      1 \n",
       "Sean Biggerstaff         1 \n",
       "Tanya Roberts            1 \n",
       "Britt Robertson          1 \n",
       "Robert Evans             1 \n",
       "Kevin Dillon             1 \n",
       "Brady Corbet             1 \n",
       "Rachel Hendrix           1 \n",
       "Rashida Jones            1 \n",
       "Ely Pouget               1 \n",
       "Rafe Spall               1 \n",
       "Jiro Ono                 1 \n",
       "Piolo Pascual            1 \n",
       "Leslie Bibb              1 \n",
       "Chow Yun-fat             1 \n",
       "Carice van Houten        1 \n",
       "Derek Jacobi             1 \n",
       "Rod Taylor               1 \n",
       "Eminem                   1 \n",
       "Roger Allam              1 \n",
       "Mark Frechette           1 \n",
       "Priscilla C. Shirer      1 \n",
       "Michael Crawford         1 \n",
       "Don Johnson              1 \n",
       "Gina Carano              1 \n",
       "Jack Rebney              1 \n",
       "George Kennedy           1 \n",
       "Brian Bedford            1 \n",
       "Name: cast, Length: 1802, dtype: int64"
      ]
     },
     "execution_count": 21,
     "metadata": {},
     "output_type": "execute_result"
    }
   ],
   "source": [
    "movies_actor_revenue = table_merge(movies_df_actor, ['imdb_id','cast'], movies_df_revenue, movies_df_revenue.columns, 'imdb_id', 'inner')\n",
    "movies_actor_revenue['cast'].value_counts()"
   ]
  },
  {
   "cell_type": "markdown",
   "metadata": {},
   "source": [
    "Then I will group by actor and aggragate the data by `sum` and `count` respectively showing the total revenue of all the movies that a particular actor had played as the leading role and the count of movies the total revenue came from. Also I will show the aggragated movie titles for each actor:"
   ]
  },
  {
   "cell_type": "code",
   "execution_count": 22,
   "metadata": {
    "collapsed": true
   },
   "outputs": [],
   "source": [
    "movies_revenue_by_actor = group(movies_actor_revenue, 'cast', 'revenue')\n",
    "movies_revenue_by_actor.rename(columns = {'<lambda>':'titles', 'count':'movies_count_by_actor', 'revenue':'total_revenue'}, inplace = True)"
   ]
  },
  {
   "cell_type": "markdown",
   "metadata": {},
   "source": [
    "I will then calculate the average revenue for all the movies the particular actor had played as the leading role:"
   ]
  },
  {
   "cell_type": "code",
   "execution_count": 23,
   "metadata": {
    "collapsed": true,
    "scrolled": false
   },
   "outputs": [],
   "source": [
    "movies_revenue_by_actor['average_revenue_by_actor'] = movies_revenue_by_actor['total_revenue']/movies_revenue_by_actor['movies_count_by_actor']"
   ]
  },
  {
   "cell_type": "markdown",
   "metadata": {},
   "source": [
    "Now I am curious how the average revenue by each individual actor comparing with the average revenue of all movies:"
   ]
  },
  {
   "cell_type": "code",
   "execution_count": 24,
   "metadata": {
    "collapsed": true
   },
   "outputs": [],
   "source": [
    "movies_revenue_by_actor['std_revenue_to_all_movies'] = movies_revenue_by_actor['average_revenue_by_actor'].apply(standardize_revenue)"
   ]
  },
  {
   "cell_type": "markdown",
   "metadata": {},
   "source": [
    "Now I want to add a rank column to show the rank of the standardized revenue for each actor:"
   ]
  },
  {
   "cell_type": "code",
   "execution_count": 25,
   "metadata": {},
   "outputs": [
    {
     "data": {
      "text/plain": [
       "1802"
      ]
     },
     "execution_count": 25,
     "metadata": {},
     "output_type": "execute_result"
    },
    {
     "data": {
      "text/plain": [
       "33"
      ]
     },
     "execution_count": 25,
     "metadata": {},
     "output_type": "execute_result"
    }
   ],
   "source": [
    "movies_revenue_by_actor['rank_by_std_revenue'] = movies_revenue_by_actor['std_revenue_to_all_movies'].rank(method='dense',ascending=False)\n",
    "movies_revenue_by_actor = movies_revenue_by_actor.sort_values('rank_by_std_revenue').reset_index(drop=True)\n",
    "len(movies_revenue_by_actor)\n",
    "len(movies_revenue_by_actor[movies_revenue_by_actor['std_revenue_to_all_movies']>=2])\n"
   ]
  },
  {
   "cell_type": "markdown",
   "metadata": {},
   "source": [
    "From the output we can see that the average revenue earn by 33 out of 1802 actors are over 2 standard deviation of the general average movie revenue."
   ]
  },
  {
   "cell_type": "markdown",
   "metadata": {},
   "source": [
    "### Research Question 3 Grouping movies by actor, for all movies the particular actor had played the leading role, what was the average popularity? How do these statistics compare to the average popularity of all movie population? "
   ]
  },
  {
   "cell_type": "markdown",
   "metadata": {
    "collapsed": true
   },
   "source": [
    "The process will be very similar to the process of last question.\n",
    "Firstly merging actor and popularity tables:"
   ]
  },
  {
   "cell_type": "code",
   "execution_count": 26,
   "metadata": {
    "collapsed": true
   },
   "outputs": [],
   "source": [
    "movies_actor_popularity = table_merge(movies_df_actor, ['imdb_id','cast'], movies_df_pop, movies_df_pop.columns, 'imdb_id', 'inner')"
   ]
  },
  {
   "cell_type": "markdown",
   "metadata": {},
   "source": [
    "Then I will group by actor and aggragate the data by `sum` and `count` respectively showing the total popularity the particular actor helped to gain and the count of movies the total revenue came from. Also I will show the aggragated movie titles for each actor:"
   ]
  },
  {
   "cell_type": "code",
   "execution_count": 27,
   "metadata": {
    "collapsed": true
   },
   "outputs": [],
   "source": [
    "movies_pop_by_actor = group(movies_actor_popularity, 'cast', 'popularity')\n",
    "movies_pop_by_actor.rename(columns={'<lambda>':'titles', 'count':'movies_count_by_actor', 'popularity':'total_popularity'}, inplace=True)"
   ]
  },
  {
   "cell_type": "markdown",
   "metadata": {},
   "source": [
    "Next I will calculate the average popularity for all movies the particular actor had played the leading role. I will then convert the average popularity into a standardized popularity value against the average popularity of all movies. Finally I will rank the actor based on the standardized popularity:"
   ]
  },
  {
   "cell_type": "code",
   "execution_count": 28,
   "metadata": {
    "collapsed": true
   },
   "outputs": [],
   "source": [
    "movies_pop_by_actor['average_popularity_by_actor'] = movies_pop_by_actor['total_popularity'] / movies_pop_by_actor['movies_count_by_actor']\n",
    "movies_pop_by_actor['std_popularity_to_all_movies'] = movies_pop_by_actor['average_popularity_by_actor'].apply(standardize_popularity)\n",
    "movies_pop_by_actor['rank_by_std_popularity'] = movies_pop_by_actor['std_popularity_to_all_movies'].rank(method='dense',ascending=False)\n",
    "movies_pop_by_actor = movies_pop_by_actor.sort_values('rank_by_std_popularity').reset_index(drop=True)"
   ]
  },
  {
   "cell_type": "markdown",
   "metadata": {},
   "source": [
    "### Research Question 4 In general how is popularity and revenue related?\n",
    "To answer this question, I will inner merge datasets `movies_df_revenue` and `movies_df_pop` and get a combined dataset shows both revenue and popularity for each movie where revenue and popularity are both not null. Then I will draw a chart to see the if there is a correlation. "
   ]
  },
  {
   "cell_type": "code",
   "execution_count": 29,
   "metadata": {},
   "outputs": [
    {
     "data": {
      "text/plain": [
       "array([[ 1.        ,  0.62930486],\n",
       "       [ 0.62930486,  1.        ]])"
      ]
     },
     "execution_count": 29,
     "metadata": {},
     "output_type": "execute_result"
    },
    {
     "data": {
      "text/plain": [
       "<seaborn.axisgrid.FacetGrid at 0x111077cf8>"
      ]
     },
     "execution_count": 29,
     "metadata": {},
     "output_type": "execute_result"
    },
    {
     "data": {
      "text/plain": [
       "<matplotlib.text.Text at 0x1112a1390>"
      ]
     },
     "execution_count": 29,
     "metadata": {},
     "output_type": "execute_result"
    },
    {
     "data": {
      "text/plain": [
       "<matplotlib.text.Text at 0x10d48b278>"
      ]
     },
     "execution_count": 29,
     "metadata": {},
     "output_type": "execute_result"
    },
    {
     "data": {
      "text/plain": [
       "<matplotlib.text.Text at 0x11122e978>"
      ]
     },
     "execution_count": 29,
     "metadata": {},
     "output_type": "execute_result"
    },
    {
     "data": {
      "image/png": "[encoded data removed]",
      "text/plain": [
       "<matplotlib.figure.Figure at 0x111077b00>"
      ]
     },
     "metadata": {},
     "output_type": "display_data"
    }
   ],
   "source": [
    "# table merge: movies_df_revenue and movies_df_pop\n",
    "movies_revenue_pop = table_merge(movies_df_revenue, ['imdb_id','original_title', 'revenue'], movies_df_pop, ['imdb_id', 'popularity'], 'imdb_id', 'inner')\n",
    "\n",
    "corr = np.corrcoef(movies_revenue_pop['revenue'], movies_revenue_pop['popularity'])\n",
    "corr\n",
    "\n",
    "sns.lmplot(x='popularity',y='revenue',data=movies_revenue_pop,fit_reg=True, size=6) \n",
    "\n",
    "plt.title('Popularity and Revenue')\n",
    "\n",
    "# Set x-axis label\n",
    "plt.xlabel('Popularity')\n",
    "\n",
    "# Set y-axis label\n",
    "plt.ylabel('Revenue in $')"
   ]
  },
  {
   "cell_type": "markdown",
   "metadata": {},
   "source": [
    "The pearson's r value is 0.63 which tells us popularity and revenue have a moderate positive relationship. Then the scatter plot with the regression line helps to visualise the correalation."
   ]
  },
  {
   "cell_type": "markdown",
   "metadata": {},
   "source": [
    "### Research Question 5. How is vote_average of all movies distributed?\n",
    "The vote_average column shows the average vote for each value scored from 0 to 10. My guessing is the vote scores will be normally distributed. I will look at the statistics of vote_average of movies in movies_df_imdb_id_cleaned table, and then draw a distribution graph of these vote scores:"
   ]
  },
  {
   "cell_type": "code",
   "execution_count": 30,
   "metadata": {},
   "outputs": [
    {
     "data": {
      "text/plain": [
       "count   10855.000\n",
       "mean    5.974    \n",
       "std     0.935    \n",
       "min     1.500    \n",
       "25%     5.400    \n",
       "50%     6.000    \n",
       "75%     6.600    \n",
       "max     9.200    \n",
       "Name: vote_average, dtype: float64"
      ]
     },
     "execution_count": 30,
     "metadata": {},
     "output_type": "execute_result"
    },
    {
     "data": {
      "text/plain": [
       "<matplotlib.figure.Figure at 0x1116f77f0>"
      ]
     },
     "execution_count": 30,
     "metadata": {},
     "output_type": "execute_result"
    },
    {
     "data": {
      "text/plain": [
       "<matplotlib.axes._subplots.AxesSubplot at 0x10d489c88>"
      ]
     },
     "execution_count": 30,
     "metadata": {},
     "output_type": "execute_result"
    },
    {
     "data": {
      "text/plain": [
       "<matplotlib.text.Text at 0x111751898>"
      ]
     },
     "execution_count": 30,
     "metadata": {},
     "output_type": "execute_result"
    },
    {
     "data": {
      "text/plain": [
       "<matplotlib.text.Text at 0x11122e128>"
      ]
     },
     "execution_count": 30,
     "metadata": {},
     "output_type": "execute_result"
    },
    {
     "data": {
      "text/plain": [
       "<matplotlib.text.Text at 0x111725d68>"
      ]
     },
     "execution_count": 30,
     "metadata": {},
     "output_type": "execute_result"
    },
    {
     "data": {
      "image/png": "[encoded data removed]",
      "text/plain": [
       "<matplotlib.figure.Figure at 0x1116f77f0>"
      ]
     },
     "metadata": {},
     "output_type": "display_data"
    }
   ],
   "source": [
    "movies_df_imdb_id_cleaned['vote_average'].describe()\n",
    "plt.figure(figsize=(10,6))\n",
    "movies_df_imdb_id_cleaned['vote_average'].hist()\n",
    "\n",
    "plt.title('Distribution of Movie Vote Score')\n",
    "plt.xlabel('Vote Score')\n",
    "plt.ylabel('Number of Movies')"
   ]
  },
  {
   "cell_type": "markdown",
   "metadata": {},
   "source": [
    "The vote scores distrbuted normally with mean of 5.974 and 0.935 as standard deviation. "
   ]
  },
  {
   "cell_type": "markdown",
   "metadata": {},
   "source": [
    "### Research Question 6. Which month of each year had the most movie released?\n",
    "To answer this question, I am going to use movies_month_year_count dataset to draw a heatmap. The color of the heatmap will be based on the maximum and the minumun value of each column. In other words, I will draw the heatmap to see if there are any patterns on which month has the most movies released across all the years from 1965 to 2015.\n",
    "\n",
    "In order to do that, I firstly find out the maximum value of each column, and then each value in the column is divided by the maximum value. So each column of the dataset will be converted into a normalised list of values range between 0 and 1 - 0 represents that there is no movies released in the month of the year; 1 represents this is the month with the maximum number of movies released in the year."
   ]
  },
  {
   "cell_type": "code",
   "execution_count": 31,
   "metadata": {},
   "outputs": [
    {
     "data": {
      "text/plain": [
       "<matplotlib.figure.Figure at 0x1117d79b0>"
      ]
     },
     "execution_count": 31,
     "metadata": {},
     "output_type": "execute_result"
    },
    {
     "data": {
      "text/plain": [
       "<matplotlib.axes._subplots.AxesSubplot at 0x11171bb38>"
      ]
     },
     "execution_count": 31,
     "metadata": {},
     "output_type": "execute_result"
    },
    {
     "data": {
      "text/plain": [
       "<matplotlib.text.Text at 0x11194f6a0>"
      ]
     },
     "execution_count": 31,
     "metadata": {},
     "output_type": "execute_result"
    },
    {
     "data": {
      "image/png": "[encoded data removed]",
      "text/plain": [
       "<matplotlib.figure.Figure at 0x1117d79b0>"
      ]
     },
     "metadata": {},
     "output_type": "display_data"
    }
   ],
   "source": [
    "# Find out the maximun value of each column - meaning that for each year finding the month with the most movies released\n",
    "# Then values of the the column is divided by that maximum value.\n",
    "movies_month_year_count = movies_month_year_count.div(movies_month_year_count.max(axis=0), axis=1)\n",
    "plt.figure(figsize=(16,5))\n",
    "ax = plt.axes()\n",
    "\n",
    "sns.heatmap(movies_month_year_count, cmap='YlGnBu', ax=ax, cbar_kws={'label':'Normalised Number of Movies Released'})\n",
    "ax.set_title('Number of Movies Released by Month, Year')"
   ]
  },
  {
   "cell_type": "markdown",
   "metadata": {},
   "source": [
    "From the heatmap, it seems that December was most likely the busiest month consistently from 1960 to 2002. Then September replaced December and became the busiest month since 2003."
   ]
  },
  {
   "cell_type": "markdown",
   "metadata": {},
   "source": [
    "<a id='conclusions'></a>\n",
    "## Conclusions\n",
    "\n",
    "In summary, I have analysed the TMDB movie dataset by answering these questions:\n",
    "1. What was the average revenue of all movies in each particular year? is there any trend across all years?\n",
    "2. Grouping movies by actor, for all movies the particular actor had played the leading role, what was the average revenue? How do these statistics compare to the average revenue of all movie population?\n",
    "3. Grouping movies by actor, for all movies the particular actor had played the leading role, what was the average popularity? How do these statistics compare to the average popularity of all movie population?\n",
    "4. In general how is popularity and revenue related?\n",
    "5. How is vote_average of all movies distributed?\n",
    "6. Which month of each year had the most movie released?\n",
    "\n",
    "I have found out that overall the total movie revenue earned has been increasing since 1960 to 2015. The average movie revenue for each year is also increasing. I also saw how remarkable movies (e.g. Star War) had a big impact on the average revenue in a particular year which saved the year out of other movies with low profit. I drew two line chart to help visualise the trend.\n",
    "\n",
    "In order to answer question 2 and 3, I have created two tables to show the average revenue and average popularity respectively for all movies played by each actor. The average value then was used to compared with the average value of all movies by standardizeing the average values for each actor to the average value of all movies. It looks like Chris Pratt is definitely the winner for both revenue earning and popularity gaining. His z-score of average earned revenue and popularity are 6.505 and 22.989.\n",
    "\n",
    "It also looks like there is a positive correlation between popularity and revenue of the movie, which means that the more popular a movie is, the more revenue it can possiblly earn. The scatter chart with the regression line proved the conclusion. \n",
    "\n",
    "I had analysed the distribution of the average vote of all movies as a 1D variable. The vote scores distrbuted normally with mean of 5.974 and 0.935 as standard deviation. From the histogram we can clearly see the distribution. \n",
    "\n",
    "In the last question I drew a heatmap to show the maximum movie released month of each year from 1960 to 2015. It seems that December used to be the busiest month and then September replaced it since 2003.\n",
    "\n",
    "\n",
    "\n",
    "### Limitation\n",
    "\n",
    "In my analysis, all NaN cells from the original dataset were considered as missing data. All missing data were removed from the original dataset to form new datasets without analysing any possible patterns of these missing data. It is highly likely to bring bias if some data are missing not randomly. It is also worth noting that revenue is the column with the most missing values. Approximately 45% of movies are missing revenue. By simply removing all rows where revenue equals 0 has significantly decreased the number of data for analysis.  \n",
    "\n",
    "The way of data cleaning can definetely be improved by looking at the missing value closely and analysing the type of missing data and find the appropriate way to minimise the impact to the whole dataset. \n",
    "\n",
    "### Future work\n",
    "may include analysing the correlation between popularity and vote_average; analysing statistics for movies under each genre; and text processing on the keyword/tagline/overview columns to see what words/scentence drived people to go to the cinema and watch the movie."
   ]
  },
  {
   "cell_type": "markdown",
   "metadata": {},
   "source": [
    "<a id='reference'></a>\n",
    "## References\n",
    "\n",
    "https://www.kaggle.com/tmdb/tmdb-movie-metadata\n",
    "\n",
    "https://stackoverflow.com/questions/12680754/split-explode-pandas-dataframe-string-entry-to-separate-rows\n",
    "\n",
    "http://nikgrozev.com/2015/07/01/reshaping-in-pandas-pivot-pivot-table-stack-and-unstack-explained-with-pictures/\n",
    "\n",
    "https://stackoverflow.com/questions/42111075/seaborn-heatmap-color-scheme-based-on-row-values"
   ]
  }
 ],
 "metadata": {
  "anaconda-cloud": {},
  "kernelspec": {
   "display_name": "Python [conda env:lesson3_project]",
   "language": "python",
   "name": "conda-env-lesson3_project-py"
  },
  "language_info": {
   "codemirror_mode": {
    "name": "ipython",
    "version": 3
   },
   "file_extension": ".py",
   "mimetype": "text/x-python",
   "name": "python",
   "nbconvert_exporter": "python",
   "pygments_lexer": "ipython3",
   "version": "3.6.2"
  }
 },
 "nbformat": 4,
 "nbformat_minor": 2
}
